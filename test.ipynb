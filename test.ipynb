{
 "cells": [
  {
   "cell_type": "code",
   "execution_count": 150,
   "metadata": {},
   "outputs": [],
   "source": [
    "import chess.pgn\n",
    "import csv\n",
    "import pandas as pd\n",
    "import os\n",
    "import io"
   ]
  },
  {
   "cell_type": "code",
   "execution_count": 137,
   "metadata": {},
   "outputs": [],
   "source": [
    "pgn = open(\"russian_chess.pgn\")"
   ]
  },
  {
   "cell_type": "code",
   "execution_count": 139,
   "metadata": {},
   "outputs": [],
   "source": [
    "games = []\n",
    "for game in pgn:\n",
    "    curr = chess.pgn.read_game(pgn)\n",
    "    games.append(curr)"
   ]
  },
  {
   "cell_type": "code",
   "execution_count": 112,
   "metadata": {},
   "outputs": [
    {
     "data": {
      "text/plain": [
       "23"
      ]
     },
     "execution_count": 112,
     "metadata": {},
     "output_type": "execute_result"
    }
   ],
   "source": [
    "len(games)"
   ]
  },
  {
   "cell_type": "code",
   "execution_count": 114,
   "metadata": {},
   "outputs": [],
   "source": [
    "first_game = games[0]"
   ]
  },
  {
   "cell_type": "code",
   "execution_count": null,
   "metadata": {},
   "outputs": [],
   "source": [
    "board = first_game.board()\n",
    "for move in first_game.mainline_moves():\n",
    "    board.push(move)\n",
    "    print(move)\n",
    "    print(board.fen())"
   ]
  },
  {
   "cell_type": "code",
   "execution_count": 154,
   "metadata": {},
   "outputs": [],
   "source": [
    "def extract_combined_moves_and_comments(pgn_text):\n",
    "    # Convert the string to a StringIO object\n",
    "    pgn = io.StringIO(pgn_text)\n",
    "    \n",
    "    # Read the game\n",
    "    game = chess.pgn.read_game(pgn)\n",
    "    \n",
    "    combined_moves_comments = []\n",
    "    last_move = \"\"\n",
    "    last_comment = \"\"\n",
    "    move_number = 1\n",
    "    \n",
    "    node = game\n",
    "    while not node.is_end():\n",
    "        next_node = node.variation(0)\n",
    "        move = node.board().san(next_node.move)\n",
    "        comment = next_node.comment\n",
    "        \n",
    "        if node.board().turn == chess.BLACK:\n",
    "            # Handle White's move\n",
    "            if last_move:\n",
    "                player = \"White\" if move_number % 2 == 1 else \"Black\"\n",
    "                combined_move = f\"{last_move} {move}\"\n",
    "                combined_comment = comment if comment else last_comment\n",
    "                combined_moves_comments.append((move_number,player, combined_move, combined_comment))\n",
    "                last_move = \"\"\n",
    "                last_comment = \"\"\n",
    "                move_number += 1\n",
    "            else:\n",
    "                last_move = move\n",
    "                last_comment = comment\n",
    "        else:\n",
    "            # Handle Black's move\n",
    "            if last_move:\n",
    "                player = \"White\" if move_number % 2 == 1 else \"Black\"\n",
    "                combined_move = f\" {last_move} {move}\"\n",
    "                combined_comment = comment if comment else last_comment\n",
    "                combined_moves_comments.append((move_number,player, combined_move, combined_comment))\n",
    "                last_move = \"\"\n",
    "                last_comment = \"\"\n",
    "                move_number += 1\n",
    "            else:\n",
    "                last_move = move\n",
    "                last_comment = comment\n",
    "        \n",
    "        node = next_node\n",
    "    \n",
    "    # Handle case where the game ends after White's move\n",
    "    if last_move:\n",
    "        player = \"White\" if move_number % 2 == 1 else \"Black\"\n",
    "        combined_move = f\" {last_move}\"\n",
    "        combined_comment = last_comment\n",
    "        combined_moves_comments.append((move_number, player,combined_move, combined_comment))\n",
    "    \n",
    "    return combined_moves_comments\n",
    "\n",
    "pgn_text = \"\"\"Your PGN text goes here\"\"\"\n",
    "combined_moves_comments = extract_combined_moves_and_comments(pgn_text)\n",
    "\n",
    "# Print combined moves and comments\n",
    "for entry in combined_moves_comments:\n",
    "    print(entry)\n"
   ]
  },
  {
   "cell_type": "code",
   "execution_count": 147,
   "metadata": {},
   "outputs": [],
   "source": [
    "def read_pgn_and_write_to_csv(pgn_file_path, csv_file_path):\n",
    "    with open(pgn_file_path, 'r', encoding='utf-8') as pgn:\n",
    "        with open(csv_file_path, 'w', newline='', encoding='utf-8') as csvfile:\n",
    "            csvwriter = csv.writer(csvfile)\n",
    "            # Write the headers\n",
    "            csvwriter.writerow(['Game Number', 'Move Number', 'Player', 'Move', 'Comment'])\n",
    "            \n",
    "            game_number = 1\n",
    "            while True:\n",
    "                game = chess.pgn.read_game(pgn)\n",
    "                if game is None:\n",
    "                    break  # End of file or no more games\n",
    "                \n",
    "                combined_moves_comments = extract_combined_moves_and_comments(str(game))\n",
    "                \n",
    "                # Write each move's data to the CSV, prepending the game number\n",
    "                for move_number, player, move, comment in combined_moves_comments:\n",
    "                    csvwriter.writerow([game_number, move_number, player, move, comment])\n",
    "                \n",
    "                game_number += 1"
   ]
  },
  {
   "cell_type": "code",
   "execution_count": 148,
   "metadata": {},
   "outputs": [],
   "source": [
    "read_pgn_and_write_to_csv('/Users/mzk/Documents/566 Project/russian_chess.pgn', 'russian_chess.csv')"
   ]
  },
  {
   "cell_type": "code",
   "execution_count": 152,
   "metadata": {},
   "outputs": [],
   "source": [
    "def process_pgn_files(directory):\n",
    "    for filename in os.listdir(directory):\n",
    "        if filename.endswith('.pgn'):\n",
    "            pgn_file_path = os.path.join(directory, filename)\n",
    "            csv_file_path = os.path.join(directory, os.path.splitext(filename)[0] + '.csv')\n",
    "\n",
    "            # Now read the PGN file and write to the corresponding CSV file\n",
    "            read_pgn_and_write_to_csv(pgn_file_path, csv_file_path)\n",
    "            print(f\"Processed {filename} to {os.path.splitext(filename)[0] + '.csv'}\")"
   ]
  },
  {
   "cell_type": "code",
   "execution_count": 155,
   "metadata": {},
   "outputs": [
    {
     "name": "stdout",
     "output_type": "stream",
     "text": [
      "Processed linares_2002.pgn to linares_2002.csv\n",
      "Processed middleg.pgn to middleg.csv\n"
     ]
    },
    {
     "ename": "UnicodeDecodeError",
     "evalue": "'utf-8' codec can't decode byte 0xe2 in position 7062: invalid continuation byte",
     "output_type": "error",
     "traceback": [
      "\u001b[0;31m---------------------------------------------------------------------------\u001b[0m",
      "\u001b[0;31mUnicodeDecodeError\u001b[0m                        Traceback (most recent call last)",
      "Cell \u001b[0;32mIn[155], line 2\u001b[0m\n\u001b[1;32m      1\u001b[0m directory \u001b[38;5;241m=\u001b[39m \u001b[38;5;124m'\u001b[39m\u001b[38;5;124m/Users/mzk/Documents/566 Project\u001b[39m\u001b[38;5;124m'\u001b[39m\n\u001b[0;32m----> 2\u001b[0m \u001b[43mprocess_pgn_files\u001b[49m\u001b[43m(\u001b[49m\u001b[43mdirectory\u001b[49m\u001b[43m)\u001b[49m\n",
      "Cell \u001b[0;32mIn[152], line 8\u001b[0m, in \u001b[0;36mprocess_pgn_files\u001b[0;34m(directory)\u001b[0m\n\u001b[1;32m      5\u001b[0m csv_file_path \u001b[38;5;241m=\u001b[39m os\u001b[38;5;241m.\u001b[39mpath\u001b[38;5;241m.\u001b[39mjoin(directory, os\u001b[38;5;241m.\u001b[39mpath\u001b[38;5;241m.\u001b[39msplitext(filename)[\u001b[38;5;241m0\u001b[39m] \u001b[38;5;241m+\u001b[39m \u001b[38;5;124m'\u001b[39m\u001b[38;5;124m.csv\u001b[39m\u001b[38;5;124m'\u001b[39m)\n\u001b[1;32m      7\u001b[0m \u001b[38;5;66;03m# Now read the PGN file and write to the corresponding CSV file\u001b[39;00m\n\u001b[0;32m----> 8\u001b[0m \u001b[43mread_pgn_and_write_to_csv\u001b[49m\u001b[43m(\u001b[49m\u001b[43mpgn_file_path\u001b[49m\u001b[43m,\u001b[49m\u001b[43m \u001b[49m\u001b[43mcsv_file_path\u001b[49m\u001b[43m)\u001b[49m\n\u001b[1;32m      9\u001b[0m \u001b[38;5;28mprint\u001b[39m(\u001b[38;5;124mf\u001b[39m\u001b[38;5;124m\"\u001b[39m\u001b[38;5;124mProcessed \u001b[39m\u001b[38;5;132;01m{\u001b[39;00mfilename\u001b[38;5;132;01m}\u001b[39;00m\u001b[38;5;124m to \u001b[39m\u001b[38;5;132;01m{\u001b[39;00mos\u001b[38;5;241m.\u001b[39mpath\u001b[38;5;241m.\u001b[39msplitext(filename)[\u001b[38;5;241m0\u001b[39m]\u001b[38;5;250m \u001b[39m\u001b[38;5;241m+\u001b[39m\u001b[38;5;250m \u001b[39m\u001b[38;5;124m'\u001b[39m\u001b[38;5;124m.csv\u001b[39m\u001b[38;5;124m'\u001b[39m\u001b[38;5;132;01m}\u001b[39;00m\u001b[38;5;124m\"\u001b[39m)\n",
      "Cell \u001b[0;32mIn[147], line 10\u001b[0m, in \u001b[0;36mread_pgn_and_write_to_csv\u001b[0;34m(pgn_file_path, csv_file_path)\u001b[0m\n\u001b[1;32m      8\u001b[0m game_number \u001b[38;5;241m=\u001b[39m \u001b[38;5;241m1\u001b[39m\n\u001b[1;32m      9\u001b[0m \u001b[38;5;28;01mwhile\u001b[39;00m \u001b[38;5;28;01mTrue\u001b[39;00m:\n\u001b[0;32m---> 10\u001b[0m     game \u001b[38;5;241m=\u001b[39m \u001b[43mchess\u001b[49m\u001b[38;5;241;43m.\u001b[39;49m\u001b[43mpgn\u001b[49m\u001b[38;5;241;43m.\u001b[39;49m\u001b[43mread_game\u001b[49m\u001b[43m(\u001b[49m\u001b[43mpgn\u001b[49m\u001b[43m)\u001b[49m\n\u001b[1;32m     11\u001b[0m     \u001b[38;5;28;01mif\u001b[39;00m game \u001b[38;5;129;01mis\u001b[39;00m \u001b[38;5;28;01mNone\u001b[39;00m:\n\u001b[1;32m     12\u001b[0m         \u001b[38;5;28;01mbreak\u001b[39;00m  \u001b[38;5;66;03m# End of file or no more games\u001b[39;00m\n",
      "File \u001b[0;32m/opt/anaconda3/envs/chess/lib/python3.9/site-packages/chess/pgn.py:1548\u001b[0m, in \u001b[0;36mread_game\u001b[0;34m(handle, Visitor)\u001b[0m\n\u001b[1;32m   1545\u001b[0m unmanaged_headers: Optional[Headers] \u001b[38;5;241m=\u001b[39m \u001b[38;5;28;01mNone\u001b[39;00m\n\u001b[1;32m   1547\u001b[0m \u001b[38;5;66;03m# Ignore leading empty lines and comments.\u001b[39;00m\n\u001b[0;32m-> 1548\u001b[0m line \u001b[38;5;241m=\u001b[39m \u001b[43mhandle\u001b[49m\u001b[38;5;241;43m.\u001b[39;49m\u001b[43mreadline\u001b[49m\u001b[43m(\u001b[49m\u001b[43m)\u001b[49m\u001b[38;5;241m.\u001b[39mlstrip(\u001b[38;5;124m\"\u001b[39m\u001b[38;5;130;01m\\ufeff\u001b[39;00m\u001b[38;5;124m\"\u001b[39m)\n\u001b[1;32m   1549\u001b[0m \u001b[38;5;28;01mwhile\u001b[39;00m line\u001b[38;5;241m.\u001b[39misspace() \u001b[38;5;129;01mor\u001b[39;00m line\u001b[38;5;241m.\u001b[39mstartswith(\u001b[38;5;124m\"\u001b[39m\u001b[38;5;124m%\u001b[39m\u001b[38;5;124m\"\u001b[39m) \u001b[38;5;129;01mor\u001b[39;00m line\u001b[38;5;241m.\u001b[39mstartswith(\u001b[38;5;124m\"\u001b[39m\u001b[38;5;124m;\u001b[39m\u001b[38;5;124m\"\u001b[39m):\n\u001b[1;32m   1550\u001b[0m     line \u001b[38;5;241m=\u001b[39m handle\u001b[38;5;241m.\u001b[39mreadline()\n",
      "File \u001b[0;32m/opt/anaconda3/envs/chess/lib/python3.9/codecs.py:322\u001b[0m, in \u001b[0;36mBufferedIncrementalDecoder.decode\u001b[0;34m(self, input, final)\u001b[0m\n\u001b[1;32m    319\u001b[0m \u001b[38;5;28;01mdef\u001b[39;00m \u001b[38;5;21mdecode\u001b[39m(\u001b[38;5;28mself\u001b[39m, \u001b[38;5;28minput\u001b[39m, final\u001b[38;5;241m=\u001b[39m\u001b[38;5;28;01mFalse\u001b[39;00m):\n\u001b[1;32m    320\u001b[0m     \u001b[38;5;66;03m# decode input (taking the buffer into account)\u001b[39;00m\n\u001b[1;32m    321\u001b[0m     data \u001b[38;5;241m=\u001b[39m \u001b[38;5;28mself\u001b[39m\u001b[38;5;241m.\u001b[39mbuffer \u001b[38;5;241m+\u001b[39m \u001b[38;5;28minput\u001b[39m\n\u001b[0;32m--> 322\u001b[0m     (result, consumed) \u001b[38;5;241m=\u001b[39m \u001b[38;5;28;43mself\u001b[39;49m\u001b[38;5;241;43m.\u001b[39;49m\u001b[43m_buffer_decode\u001b[49m\u001b[43m(\u001b[49m\u001b[43mdata\u001b[49m\u001b[43m,\u001b[49m\u001b[43m \u001b[49m\u001b[38;5;28;43mself\u001b[39;49m\u001b[38;5;241;43m.\u001b[39;49m\u001b[43merrors\u001b[49m\u001b[43m,\u001b[49m\u001b[43m \u001b[49m\u001b[43mfinal\u001b[49m\u001b[43m)\u001b[49m\n\u001b[1;32m    323\u001b[0m     \u001b[38;5;66;03m# keep undecoded input until the next call\u001b[39;00m\n\u001b[1;32m    324\u001b[0m     \u001b[38;5;28mself\u001b[39m\u001b[38;5;241m.\u001b[39mbuffer \u001b[38;5;241m=\u001b[39m data[consumed:]\n",
      "\u001b[0;31mUnicodeDecodeError\u001b[0m: 'utf-8' codec can't decode byte 0xe2 in position 7062: invalid continuation byte"
     ]
    }
   ],
   "source": [
    "directory = '/Users/mzk/Documents/566 Project'\n",
    "process_pgn_files(directory)"
   ]
  },
  {
   "cell_type": "code",
   "execution_count": 157,
   "metadata": {},
   "outputs": [],
   "source": [
    "#read as df limit 1000\n",
    "df = pd.read_csv('linares_2002.csv', nrows=1000)"
   ]
  },
  {
   "cell_type": "code",
   "execution_count": null,
   "metadata": {},
   "outputs": [],
   "source": []
  }
 ],
 "metadata": {
  "kernelspec": {
   "display_name": "base",
   "language": "python",
   "name": "python3"
  },
  "language_info": {
   "codemirror_mode": {
    "name": "ipython",
    "version": 3
   },
   "file_extension": ".py",
   "mimetype": "text/x-python",
   "name": "python",
   "nbconvert_exporter": "python",
   "pygments_lexer": "ipython3",
   "version": "3.9.18"
  }
 },
 "nbformat": 4,
 "nbformat_minor": 2
}
