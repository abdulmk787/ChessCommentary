{
 "cells": [
  {
   "cell_type": "code",
   "execution_count": 1,
   "metadata": {},
   "outputs": [],
   "source": [
    "import chess.pgn\n",
    "import csv\n",
    "import pandas as pd\n",
    "import os\n",
    "import io"
   ]
  },
  {
   "cell_type": "code",
   "execution_count": 2,
   "metadata": {},
   "outputs": [],
   "source": [
    "def extract_combined_moves_and_comments(pgn_text):\n",
    "    # Convert the string to a StringIO object\n",
    "    pgn = io.StringIO(pgn_text)\n",
    "    \n",
    "    # Read the game\n",
    "    game = chess.pgn.read_game(pgn)\n",
    "    \n",
    "    combined_moves_comments = []\n",
    "    move_number = 1\n",
    "    \n",
    "    node = game\n",
    "    while not node.is_end():\n",
    "        next_node = node.variation(0)\n",
    "        board = str(node.board())\n",
    "        \n",
    "        move = node.board().uci(next_node.move)\n",
    "        comment = next_node.comment\n",
    "        \n",
    "        player = \"White\" if move_number % 2 == 1 else \"Black\"\n",
    "        combined_moves_comments.append((move_number, player, move,board,  comment))\n",
    "        \n",
    "        node = next_node\n",
    "        move_number += 1\n",
    "    \n",
    "    return combined_moves_comments\n"
   ]
  },
  {
   "cell_type": "code",
   "execution_count": 3,
   "metadata": {},
   "outputs": [],
   "source": [
    "def read_pgn_and_write_to_csv(pgn_file_path, csv_file_path,game_number=1):\n",
    "    with open(pgn_file_path, 'r', encoding='utf-8') as pgn:\n",
    "        with open(csv_file_path, 'w', newline='', encoding='utf-8') as csvfile:\n",
    "            csvwriter = csv.writer(csvfile)\n",
    "            # Write the headers\n",
    "            csvwriter.writerow(['Game Number', 'Move Number', 'Player', 'Move',\"Board\", 'Comment'])\n",
    "            \n",
    "            \n",
    "            while True:\n",
    "                game = chess.pgn.read_game(pgn)\n",
    "                if game is None:\n",
    "                    break  # End of file or no more games\n",
    "                \n",
    "                combined_moves_comments = extract_combined_moves_and_comments(str(game))\n",
    "                \n",
    "                # Write each move's data to the CSV, prepending the game number\n",
    "                for move_number, player, move,board, comment in combined_moves_comments:\n",
    "                    csvwriter.writerow([game_number, move_number, player, move, board, comment])\n",
    "                \n",
    "                game_number += 1\n",
    "    return game_number"
   ]
  },
  {
   "cell_type": "code",
   "execution_count": 4,
   "metadata": {},
   "outputs": [],
   "source": [
    "def process_pgn_files(directory):\n",
    "    game_number = 1\n",
    "\n",
    "    for filename in os.listdir(directory):\n",
    "        if filename.endswith('.pgn'):\n",
    "            pgn_file_path = os.path.join(directory, filename)\n",
    "            csv_file_path = os.path.join(directory, os.path.splitext(filename)[0] + '.csv')\n",
    "            print(filename)\n",
    "\n",
    "            # Now read the PGN file and write to the corresponding CSV file\n",
    "            game_number = read_pgn_and_write_to_csv(pgn_file_path, csv_file_path,game_number)\n",
    "            print(f\"Processed {filename} to {os.path.splitext(filename)[0] + '.csv'}\")"
   ]
  },
  {
   "cell_type": "code",
   "execution_count": 5,
   "metadata": {},
   "outputs": [
    {
     "name": "stdout",
     "output_type": "stream",
     "text": [
      "linares_2002.pgn\n",
      "Processed linares_2002.pgn to linares_2002.csv\n",
      "middleg.pgn\n",
      "Processed middleg.pgn to middleg.csv\n",
      "russian_chess.pgn\n",
      "Processed russian_chess.pgn to russian_chess.csv\n",
      "hartwig.pgn\n",
      "Processed hartwig.pgn to hartwig.csv\n",
      "newyork1924.pgn\n",
      "Processed newyork1924.pgn to newyork1924.csv\n"
     ]
    }
   ],
   "source": [
    "directory = './'\n",
    "process_pgn_files(directory)"
   ]
  },
  {
   "cell_type": "code",
   "execution_count": 7,
   "metadata": {},
   "outputs": [],
   "source": [
    "#Combine all csv files into one\n",
    "all_filenames = [i for i in os.listdir(directory) if i.endswith('.csv')]\n",
    "combined_csv = pd.concat([pd.read_csv(f) for f in all_filenames ])\n",
    "combined_csv.to_csv( \"combined_csv.csv\", index=False, encoding='utf-8-sig')"
   ]
  },
  {
   "cell_type": "code",
   "execution_count": 6,
   "metadata": {},
   "outputs": [],
   "source": [
    "combined = pd.read_csv('combined.csv')"
   ]
  },
  {
   "cell_type": "code",
   "execution_count": 13,
   "metadata": {},
   "outputs": [
    {
     "data": {
      "text/html": [
       "<div>\n",
       "<style scoped>\n",
       "    .dataframe tbody tr th:only-of-type {\n",
       "        vertical-align: middle;\n",
       "    }\n",
       "\n",
       "    .dataframe tbody tr th {\n",
       "        vertical-align: top;\n",
       "    }\n",
       "\n",
       "    .dataframe thead th {\n",
       "        text-align: right;\n",
       "    }\n",
       "</style>\n",
       "<table border=\"1\" class=\"dataframe\">\n",
       "  <thead>\n",
       "    <tr style=\"text-align: right;\">\n",
       "      <th></th>\n",
       "      <th>Game Number</th>\n",
       "      <th>Move Number</th>\n",
       "      <th>Player</th>\n",
       "      <th>Move</th>\n",
       "      <th>Board</th>\n",
       "      <th>Comment</th>\n",
       "    </tr>\n",
       "  </thead>\n",
       "  <tbody>\n",
       "    <tr>\n",
       "      <th>0</th>\n",
       "      <td>576</td>\n",
       "      <td>1</td>\n",
       "      <td>White</td>\n",
       "      <td>b2b4</td>\n",
       "      <td>r n b q k b n r\\np p p p p p p p\\n. . . . . . ...</td>\n",
       "      <td>WHAT?!?! In the true hypermodern style, Tartak...</td>\n",
       "    </tr>\n",
       "    <tr>\n",
       "      <th>1</th>\n",
       "      <td>576</td>\n",
       "      <td>2</td>\n",
       "      <td>Black</td>\n",
       "      <td>e7e6</td>\n",
       "      <td>r n b q k b n r\\np p p p p p p p\\n. . . . . . ...</td>\n",
       "      <td>Maroczy (Black) makes an illogical move of his...</td>\n",
       "    </tr>\n",
       "    <tr>\n",
       "      <th>2</th>\n",
       "      <td>576</td>\n",
       "      <td>3</td>\n",
       "      <td>White</td>\n",
       "      <td>c1b2</td>\n",
       "      <td>r n b q k b n r\\np p p p . p p p\\n. . . . p . ...</td>\n",
       "      <td>Tartakower doesn't need to defend the pawn yet...</td>\n",
       "    </tr>\n",
       "    <tr>\n",
       "      <th>3</th>\n",
       "      <td>576</td>\n",
       "      <td>4</td>\n",
       "      <td>Black</td>\n",
       "      <td>g8f6</td>\n",
       "      <td>r n b q k b n r\\np p p p . p p p\\n. . . . p . ...</td>\n",
       "      <td>Maroczy follows more conventional lines, devel...</td>\n",
       "    </tr>\n",
       "    <tr>\n",
       "      <th>4</th>\n",
       "      <td>576</td>\n",
       "      <td>5</td>\n",
       "      <td>White</td>\n",
       "      <td>b4b5</td>\n",
       "      <td>r n b q k b . r\\np p p p . p p p\\n. . . . p n ...</td>\n",
       "      <td>Tartakower inhibits the development of Black's...</td>\n",
       "    </tr>\n",
       "  </tbody>\n",
       "</table>\n",
       "</div>"
      ],
      "text/plain": [
       "   Game Number  Move Number Player  Move  \\\n",
       "0          576            1  White  b2b4   \n",
       "1          576            2  Black  e7e6   \n",
       "2          576            3  White  c1b2   \n",
       "3          576            4  Black  g8f6   \n",
       "4          576            5  White  b4b5   \n",
       "\n",
       "                                               Board  \\\n",
       "0  r n b q k b n r\\np p p p p p p p\\n. . . . . . ...   \n",
       "1  r n b q k b n r\\np p p p p p p p\\n. . . . . . ...   \n",
       "2  r n b q k b n r\\np p p p . p p p\\n. . . . p . ...   \n",
       "3  r n b q k b n r\\np p p p . p p p\\n. . . . p . ...   \n",
       "4  r n b q k b . r\\np p p p . p p p\\n. . . . p n ...   \n",
       "\n",
       "                                             Comment  \n",
       "0  WHAT?!?! In the true hypermodern style, Tartak...  \n",
       "1  Maroczy (Black) makes an illogical move of his...  \n",
       "2  Tartakower doesn't need to defend the pawn yet...  \n",
       "3  Maroczy follows more conventional lines, devel...  \n",
       "4  Tartakower inhibits the development of Black's...  "
      ]
     },
     "execution_count": 13,
     "metadata": {},
     "output_type": "execute_result"
    }
   ],
   "source": [
    "combined.head()"
   ]
  },
  {
   "cell_type": "code",
   "execution_count": 12,
   "metadata": {},
   "outputs": [],
   "source": [
    "temp = combined.iloc[0]"
   ]
  },
  {
   "cell_type": "code",
   "execution_count": 16,
   "metadata": {},
   "outputs": [
    {
     "ename": "ValueError",
     "evalue": "expected 'w' or 'b' for turn part of fen: 'r n b q k b n r\\np p p p p p p p\\n. . . . . . . .\\n. . . . . . . .\\n. . . . . . . .\\n. . . . . . . .\\nP P P P P P P P\\nR N B Q K B N R'",
     "output_type": "error",
     "traceback": [
      "\u001b[0;31m---------------------------------------------------------------------------\u001b[0m",
      "\u001b[0;31mValueError\u001b[0m                                Traceback (most recent call last)",
      "Cell \u001b[0;32mIn[16], line 1\u001b[0m\n\u001b[0;32m----> 1\u001b[0m \u001b[43mchess\u001b[49m\u001b[38;5;241;43m.\u001b[39;49m\u001b[43mBoard\u001b[49m\u001b[43m(\u001b[49m\u001b[43mtemp\u001b[49m\u001b[43m[\u001b[49m\u001b[38;5;124;43m'\u001b[39;49m\u001b[38;5;124;43mBoard\u001b[39;49m\u001b[38;5;124;43m'\u001b[39;49m\u001b[43m]\u001b[49m\u001b[43m)\u001b[49m\n",
      "File \u001b[0;32m/opt/anaconda3/envs/chess/lib/python3.9/site-packages/chess/__init__.py:1598\u001b[0m, in \u001b[0;36mBoard.__init__\u001b[0;34m(self, fen, chess960)\u001b[0m\n\u001b[1;32m   1596\u001b[0m     \u001b[38;5;28mself\u001b[39m\u001b[38;5;241m.\u001b[39mreset()\n\u001b[1;32m   1597\u001b[0m \u001b[38;5;28;01melse\u001b[39;00m:\n\u001b[0;32m-> 1598\u001b[0m     \u001b[38;5;28;43mself\u001b[39;49m\u001b[38;5;241;43m.\u001b[39;49m\u001b[43mset_fen\u001b[49m\u001b[43m(\u001b[49m\u001b[43mfen\u001b[49m\u001b[43m)\u001b[49m\n",
      "File \u001b[0;32m/opt/anaconda3/envs/chess/lib/python3.9/site-packages/chess/__init__.py:2478\u001b[0m, in \u001b[0;36mBoard.set_fen\u001b[0;34m(self, fen)\u001b[0m\n\u001b[1;32m   2476\u001b[0m         turn \u001b[38;5;241m=\u001b[39m BLACK\n\u001b[1;32m   2477\u001b[0m     \u001b[38;5;28;01melse\u001b[39;00m:\n\u001b[0;32m-> 2478\u001b[0m         \u001b[38;5;28;01mraise\u001b[39;00m \u001b[38;5;167;01mValueError\u001b[39;00m(\u001b[38;5;124mf\u001b[39m\u001b[38;5;124m\"\u001b[39m\u001b[38;5;124mexpected \u001b[39m\u001b[38;5;124m'\u001b[39m\u001b[38;5;124mw\u001b[39m\u001b[38;5;124m'\u001b[39m\u001b[38;5;124m or \u001b[39m\u001b[38;5;124m'\u001b[39m\u001b[38;5;124mb\u001b[39m\u001b[38;5;124m'\u001b[39m\u001b[38;5;124m for turn part of fen: \u001b[39m\u001b[38;5;132;01m{\u001b[39;00mfen\u001b[38;5;132;01m!r}\u001b[39;00m\u001b[38;5;124m\"\u001b[39m)\n\u001b[1;32m   2480\u001b[0m \u001b[38;5;66;03m# Validate castling part.\u001b[39;00m\n\u001b[1;32m   2481\u001b[0m \u001b[38;5;28;01mtry\u001b[39;00m:\n",
      "\u001b[0;31mValueError\u001b[0m: expected 'w' or 'b' for turn part of fen: 'r n b q k b n r\\np p p p p p p p\\n. . . . . . . .\\n. . . . . . . .\\n. . . . . . . .\\n. . . . . . . .\\nP P P P P P P P\\nR N B Q K B N R'"
     ]
    }
   ],
   "source": [
    "chess.Board(temp['Board'])"
   ]
  },
  {
   "cell_type": "code",
   "execution_count": 11,
   "metadata": {},
   "outputs": [
    {
     "name": "stdout",
     "output_type": "stream",
     "text": [
      "81.60295880834806\n"
     ]
    }
   ],
   "source": [
    "#Check percentage of NaN in Comment column\n",
    "print(combined['Comment'].isna().sum() / len(combined) * 100)"
   ]
  },
  {
   "cell_type": "code",
   "execution_count": 7,
   "metadata": {},
   "outputs": [],
   "source": [
    "#read as df limit 1000\n",
    "df = pd.read_csv('combined.csv')"
   ]
  },
  {
   "cell_type": "code",
   "execution_count": 9,
   "metadata": {},
   "outputs": [
    {
     "name": "stdout",
     "output_type": "stream",
     "text": [
      "81.60295880834806\n"
     ]
    }
   ],
   "source": [
    "print(df['Comment'].isna().sum() / len(df) * 100)"
   ]
  },
  {
   "cell_type": "code",
   "execution_count": null,
   "metadata": {},
   "outputs": [],
   "source": [
    "df['Comment'] = df['Comment'].fillna('This move is not enough for a comment')"
   ]
  },
  {
   "cell_type": "code",
   "execution_count": 10,
   "metadata": {},
   "outputs": [
    {
     "name": "stdout",
     "output_type": "stream",
     "text": [
      "0.0\n"
     ]
    }
   ],
   "source": [
    "print(df['Comment'].isna().sum() / len(df) * 100)"
   ]
  },
  {
   "cell_type": "code",
   "execution_count": 11,
   "metadata": {},
   "outputs": [],
   "source": [
    "#save to csv\n",
    "df.to_csv('combined.csv', index=False)"
   ]
  },
  {
   "cell_type": "code",
   "execution_count": null,
   "metadata": {},
   "outputs": [],
   "source": []
  }
 ],
 "metadata": {
  "kernelspec": {
   "display_name": "base",
   "language": "python",
   "name": "python3"
  },
  "language_info": {
   "codemirror_mode": {
    "name": "ipython",
    "version": 3
   },
   "file_extension": ".py",
   "mimetype": "text/x-python",
   "name": "python",
   "nbconvert_exporter": "python",
   "pygments_lexer": "ipython3",
   "version": "3.9.18"
  }
 },
 "nbformat": 4,
 "nbformat_minor": 2
}
