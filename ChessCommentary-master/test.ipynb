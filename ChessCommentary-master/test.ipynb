{
 "cells": [
  {
   "cell_type": "code",
   "execution_count": 1,
   "metadata": {},
   "outputs": [],
   "source": [
    "import chess.pgn\n",
    "import csv\n",
    "import pandas as pd\n",
    "import os\n",
    "import io"
   ]
  },
  {
   "cell_type": "code",
   "execution_count": 2,
   "metadata": {},
   "outputs": [],
   "source": [
    "pgn = open(\"russian_chess.pgn\")"
   ]
  },
  {
   "cell_type": "code",
   "execution_count": 3,
   "metadata": {},
   "outputs": [],
   "source": [
    "games = []\n",
    "for game in pgn:\n",
    "    curr = chess.pgn.read_game(pgn)\n",
    "    games.append(curr)"
   ]
  },
  {
   "cell_type": "code",
   "execution_count": 5,
   "metadata": {},
   "outputs": [
    {
     "data": {
      "text/plain": [
       "23"
      ]
     },
     "execution_count": 5,
     "metadata": {},
     "output_type": "execute_result"
    }
   ],
   "source": [
    "len(games)"
   ]
  },
  {
   "cell_type": "code",
   "execution_count": 6,
   "metadata": {},
   "outputs": [],
   "source": [
    "first_game = games[0]"
   ]
  },
  {
   "cell_type": "code",
   "execution_count": 7,
   "metadata": {},
   "outputs": [
    {
     "name": "stdout",
     "output_type": "stream",
     "text": [
      "e2e4\n",
      "rnbqkbnr/pppppppp/8/8/4P3/8/PPPP1PPP/RNBQKBNR b KQkq - 0 1\n",
      "e7e5\n",
      "rnbqkbnr/pppp1ppp/8/4p3/4P3/8/PPPP1PPP/RNBQKBNR w KQkq - 0 2\n",
      "g1f3\n",
      "rnbqkbnr/pppp1ppp/8/4p3/4P3/5N2/PPPP1PPP/RNBQKB1R b KQkq - 1 2\n",
      "b8c6\n",
      "r1bqkbnr/pppp1ppp/2n5/4p3/4P3/5N2/PPPP1PPP/RNBQKB1R w KQkq - 2 3\n",
      "f1b5\n",
      "r1bqkbnr/pppp1ppp/2n5/1B2p3/4P3/5N2/PPPP1PPP/RNBQK2R b KQkq - 3 3\n",
      "a7a6\n",
      "r1bqkbnr/1ppp1ppp/p1n5/1B2p3/4P3/5N2/PPPP1PPP/RNBQK2R w KQkq - 0 4\n",
      "b5a4\n",
      "r1bqkbnr/1ppp1ppp/p1n5/4p3/B3P3/5N2/PPPP1PPP/RNBQK2R b KQkq - 1 4\n",
      "g8f6\n",
      "r1bqkb1r/1ppp1ppp/p1n2n2/4p3/B3P3/5N2/PPPP1PPP/RNBQK2R w KQkq - 2 5\n",
      "e1g1\n",
      "r1bqkb1r/1ppp1ppp/p1n2n2/4p3/B3P3/5N2/PPPP1PPP/RNBQ1RK1 b kq - 3 5\n",
      "b7b5\n",
      "r1bqkb1r/2pp1ppp/p1n2n2/1p2p3/B3P3/5N2/PPPP1PPP/RNBQ1RK1 w kq - 0 6\n",
      "a4b3\n",
      "r1bqkb1r/2pp1ppp/p1n2n2/1p2p3/4P3/1B3N2/PPPP1PPP/RNBQ1RK1 b kq - 1 6\n",
      "f8c5\n",
      "r1bqk2r/2pp1ppp/p1n2n2/1pb1p3/4P3/1B3N2/PPPP1PPP/RNBQ1RK1 w kq - 2 7\n",
      "a2a4\n",
      "r1bqk2r/2pp1ppp/p1n2n2/1pb1p3/P3P3/1B3N2/1PPP1PPP/RNBQ1RK1 b kq - 0 7\n",
      "a8b8\n",
      "1rbqk2r/2pp1ppp/p1n2n2/1pb1p3/P3P3/1B3N2/1PPP1PPP/RNBQ1RK1 w k - 1 8\n",
      "c2c3\n",
      "1rbqk2r/2pp1ppp/p1n2n2/1pb1p3/P3P3/1BP2N2/1P1P1PPP/RNBQ1RK1 b k - 0 8\n",
      "d7d6\n",
      "1rbqk2r/2p2ppp/p1np1n2/1pb1p3/P3P3/1BP2N2/1P1P1PPP/RNBQ1RK1 w k - 0 9\n",
      "d2d4\n",
      "1rbqk2r/2p2ppp/p1np1n2/1pb1p3/P2PP3/1BP2N2/1P3PPP/RNBQ1RK1 b k - 0 9\n",
      "c5b6\n",
      "1rbqk2r/2p2ppp/pbnp1n2/1p2p3/P2PP3/1BP2N2/1P3PPP/RNBQ1RK1 w k - 1 10\n",
      "b1a3\n",
      "1rbqk2r/2p2ppp/pbnp1n2/1p2p3/P2PP3/NBP2N2/1P3PPP/R1BQ1RK1 b k - 2 10\n",
      "c8g4\n",
      "1r1qk2r/2p2ppp/pbnp1n2/1p2p3/P2PP1b1/NBP2N2/1P3PPP/R1BQ1RK1 w k - 3 11\n",
      "a4b5\n",
      "1r1qk2r/2p2ppp/pbnp1n2/1P2p3/3PP1b1/NBP2N2/1P3PPP/R1BQ1RK1 b k - 0 11\n",
      "a6b5\n",
      "1r1qk2r/2p2ppp/1bnp1n2/1p2p3/3PP1b1/NBP2N2/1P3PPP/R1BQ1RK1 w k - 0 12\n",
      "a3b5\n",
      "1r1qk2r/2p2ppp/1bnp1n2/1N2p3/3PP1b1/1BP2N2/1P3PPP/R1BQ1RK1 b k - 0 12\n",
      "e8g8\n",
      "1r1q1rk1/2p2ppp/1bnp1n2/1N2p3/3PP1b1/1BP2N2/1P3PPP/R1BQ1RK1 w - - 1 13\n",
      "f1e1\n",
      "1r1q1rk1/2p2ppp/1bnp1n2/1N2p3/3PP1b1/1BP2N2/1P3PPP/R1BQR1K1 b - - 2 13\n",
      "g4f3\n",
      "1r1q1rk1/2p2ppp/1bnp1n2/1N2p3/3PP3/1BP2b2/1P3PPP/R1BQR1K1 w - - 0 14\n",
      "g2f3\n",
      "1r1q1rk1/2p2ppp/1bnp1n2/1N2p3/3PP3/1BP2P2/1P3P1P/R1BQR1K1 b - - 0 14\n",
      "f6h5\n",
      "1r1q1rk1/2p2ppp/1bnp4/1N2p2n/3PP3/1BP2P2/1P3P1P/R1BQR1K1 w - - 1 15\n",
      "g1h1\n",
      "1r1q1rk1/2p2ppp/1bnp4/1N2p2n/3PP3/1BP2P2/1P3P1P/R1BQR2K b - - 2 15\n",
      "d8f6\n",
      "1r3rk1/2p2ppp/1bnp1q2/1N2p2n/3PP3/1BP2P2/1P3P1P/R1BQR2K w - - 3 16\n",
      "e1g1\n",
      "1r3rk1/2p2ppp/1bnp1q2/1N2p2n/3PP3/1BP2P2/1P3P1P/R1BQ2RK b - - 4 16\n",
      "h5f4\n",
      "1r3rk1/2p2ppp/1bnp1q2/1N2p3/3PPn2/1BP2P2/1P3P1P/R1BQ2RK w - - 5 17\n",
      "c1e3\n",
      "1r3rk1/2p2ppp/1bnp1q2/1N2p3/3PPn2/1BP1BP2/1P3P1P/R2Q2RK b - - 6 17\n",
      "f4e6\n",
      "1r3rk1/2p2ppp/1bnpnq2/1N2p3/3PP3/1BP1BP2/1P3P1P/R2Q2RK w - - 7 18\n",
      "b3e6\n",
      "1r3rk1/2p2ppp/1bnpBq2/1N2p3/3PP3/2P1BP2/1P3P1P/R2Q2RK b - - 0 18\n",
      "f7e6\n",
      "1r3rk1/2p3pp/1bnppq2/1N2p3/3PP3/2P1BP2/1P3P1P/R2Q2RK w - - 0 19\n",
      "g1g3\n",
      "1r3rk1/2p3pp/1bnppq2/1N2p3/3PP3/2P1BPR1/1P3P1P/R2Q3K b - - 1 19\n",
      "g8h8\n",
      "1r3r1k/2p3pp/1bnppq2/1N2p3/3PP3/2P1BPR1/1P3P1P/R2Q3K w - - 2 20\n",
      "d1d3\n",
      "1r3r1k/2p3pp/1bnppq2/1N2p3/3PP3/2PQBPR1/1P3P1P/R6K b - - 3 20\n",
      "e5d4\n",
      "1r3r1k/2p3pp/1bnppq2/1N6/3pP3/2PQBPR1/1P3P1P/R6K w - - 0 21\n",
      "c3d4\n",
      "1r3r1k/2p3pp/1bnppq2/1N6/3PP3/3QBPR1/1P3P1P/R6K b - - 0 21\n",
      "e6e5\n",
      "1r3r1k/2p3pp/1bnp1q2/1N2p3/3PP3/3QBPR1/1P3P1P/R6K w - - 0 22\n",
      "d4d5\n",
      "1r3r1k/2p3pp/1bnp1q2/1N1Pp3/4P3/3QBPR1/1P3P1P/R6K b - - 0 22\n",
      "c6e7\n",
      "1r3r1k/2p1n1pp/1b1p1q2/1N1Pp3/4P3/3QBPR1/1P3P1P/R6K w - - 1 23\n",
      "e3b6\n",
      "1r3r1k/2p1n1pp/1B1p1q2/1N1Pp3/4P3/3Q1PR1/1P3P1P/R6K b - - 0 23\n",
      "b8b6\n",
      "5r1k/2p1n1pp/1r1p1q2/1N1Pp3/4P3/3Q1PR1/1P3P1P/R6K w - - 0 24\n",
      "b5c7\n",
      "5r1k/2N1n1pp/1r1p1q2/3Pp3/4P3/3Q1PR1/1P3P1P/R6K b - - 0 24\n",
      "b6b2\n",
      "5r1k/2N1n1pp/3p1q2/3Pp3/4P3/3Q1PR1/1r3P1P/R6K w - - 0 25\n",
      "c7e6\n",
      "5r1k/4n1pp/3pNq2/3Pp3/4P3/3Q1PR1/1r3P1P/R6K b - - 1 25\n",
      "f8g8\n",
      "6rk/4n1pp/3pNq2/3Pp3/4P3/3Q1PR1/1r3P1P/R6K w - - 2 26\n",
      "h1g1\n",
      "6rk/4n1pp/3pNq2/3Pp3/4P3/3Q1PR1/1r3P1P/R5K1 b - - 3 26\n",
      "e7g6\n",
      "6rk/6pp/3pNqn1/3Pp3/4P3/3Q1PR1/1r3P1P/R5K1 w - - 4 27\n",
      "d3a3\n",
      "6rk/6pp/3pNqn1/3Pp3/4P3/Q4PR1/1r3P1P/R5K1 b - - 5 27\n",
      "b2b6\n",
      "6rk/6pp/1r1pNqn1/3Pp3/4P3/Q4PR1/5P1P/R5K1 w - - 6 28\n",
      "g1h1\n",
      "6rk/6pp/1r1pNqn1/3Pp3/4P3/Q4PR1/5P1P/R6K b - - 7 28\n",
      "g6f4\n",
      "6rk/6pp/1r1pNq2/3Pp3/4Pn2/Q4PR1/5P1P/R6K w - - 8 29\n",
      "e6g7\n",
      "6rk/6Np/1r1p1q2/3Pp3/4Pn2/Q4PR1/5P1P/R6K b - - 0 29\n",
      "f4e2\n",
      "6rk/6Np/1r1p1q2/3Pp3/4P3/Q4PR1/4nP1P/R6K w - - 1 30\n",
      "g7f5\n",
      "6rk/7p/1r1p1q2/3PpN2/4P3/Q4PR1/4nP1P/R6K b - - 2 30\n",
      "g8b8\n",
      "1r5k/7p/1r1p1q2/3PpN2/4P3/Q4PR1/4nP1P/R6K w - - 3 31\n",
      "a3d3\n",
      "1r5k/7p/1r1p1q2/3PpN2/4P3/3Q1PR1/4nP1P/R6K b - - 4 31\n",
      "b6b2\n",
      "1r5k/7p/3p1q2/3PpN2/4P3/3Q1PR1/1r2nP1P/R6K w - - 5 32\n",
      "a1f1\n",
      "1r5k/7p/3p1q2/3PpN2/4P3/3Q1PR1/1r2nP1P/5R1K b - - 6 32\n",
      "b8a8\n",
      "r6k/7p/3p1q2/3PpN2/4P3/3Q1PR1/1r2nP1P/5R1K w - - 7 33\n",
      "d3c4\n",
      "r6k/7p/3p1q2/3PpN2/2Q1P3/5PR1/1r2nP1P/5R1K b - - 8 33\n",
      "e2g3\n",
      "r6k/7p/3p1q2/3PpN2/2Q1P3/5Pn1/1r3P1P/5R1K w - - 0 34\n",
      "h2g3\n",
      "r6k/7p/3p1q2/3PpN2/2Q1P3/5PP1/1r3P2/5R1K b - - 0 34\n",
      "f6d8\n",
      "r2q3k/7p/3p4/3PpN2/2Q1P3/5PP1/1r3P2/5R1K w - - 1 35\n",
      "c4c1\n",
      "r2q3k/7p/3p4/3PpN2/4P3/5PP1/1r3P2/2Q2R1K b - - 2 35\n",
      "b2b3\n",
      "r2q3k/7p/3p4/3PpN2/4P3/1r3PP1/5P2/2Q2R1K w - - 3 36\n",
      "h1g2\n",
      "r2q3k/7p/3p4/3PpN2/4P3/1r3PP1/5PK1/2Q2R2 b - - 4 36\n",
      "d8f8\n",
      "r4q1k/7p/3p4/3PpN2/4P3/1r3PP1/5PK1/2Q2R2 w - - 5 37\n",
      "c1c7\n",
      "r4q1k/2Q4p/3p4/3PpN2/4P3/1r3PP1/5PK1/5R2 b - - 6 37\n"
     ]
    }
   ],
   "source": [
    "board = first_game.board()\n",
    "for move in first_game.mainline_moves():\n",
    "    board.push(move)\n",
    "    print(move)\n",
    "    print(board.fen())"
   ]
  },
  {
   "cell_type": "code",
   "execution_count": 13,
   "metadata": {},
   "outputs": [],
   "source": [
    "def extract_combined_moves_and_comments(pgn_text):\n",
    "    # Convert the string to a StringIO object\n",
    "    pgn = io.StringIO(pgn_text)\n",
    "    \n",
    "    # Read the game\n",
    "    game = chess.pgn.read_game(pgn)\n",
    "    \n",
    "    combined_moves_comments = []\n",
    "    last_move = \"\"\n",
    "    last_comment = \"\"\n",
    "    move_number = 1\n",
    "    \n",
    "    node = game\n",
    "    while not node.is_end():\n",
    "        next_node = node.variation(0)\n",
    "        move = node.board().san(next_node.move)\n",
    "        comment = next_node.comment\n",
    "        \n",
    "        if node.board().turn == chess.BLACK:\n",
    "            # Handle White's move\n",
    "            if last_move:\n",
    "                player = \"White\" if move_number % 2 == 1 else \"Black\"\n",
    "                combined_move = f\"{last_move} {move}\"\n",
    "                combined_comment = comment if comment else last_comment\n",
    "                combined_moves_comments.append((move_number,player, combined_move, combined_comment))\n",
    "                last_move = \"\"\n",
    "                last_comment = \"\"\n",
    "                move_number += 1\n",
    "            else:\n",
    "                last_move = move\n",
    "                last_comment = comment\n",
    "        else:\n",
    "            # Handle Black's move\n",
    "            if last_move:\n",
    "                player = \"White\" if move_number % 2 == 1 else \"Black\"\n",
    "                combined_move = f\" {last_move} {move}\"\n",
    "                combined_comment = comment if comment else last_comment\n",
    "                combined_moves_comments.append((move_number,player, combined_move, combined_comment))\n",
    "                last_move = \"\"\n",
    "                last_comment = \"\"\n",
    "                move_number += 1\n",
    "            else:\n",
    "                last_move = move\n",
    "                last_comment = comment\n",
    "        \n",
    "        node = next_node\n",
    "    \n",
    "    # Handle case where the game ends after White's move\n",
    "    if last_move:\n",
    "        player = \"White\" if move_number % 2 == 1 else \"Black\"\n",
    "        combined_move = f\" {last_move}\"\n",
    "        combined_comment = last_comment\n",
    "        combined_moves_comments.append((move_number, player,combined_move, combined_comment))\n",
    "    \n",
    "    return combined_moves_comments\n",
    "\n",
    "pgn_text = \"\"\"Your PGN text goes here\"\"\"\n",
    "combined_moves_comments = extract_combined_moves_and_comments(pgn_text)\n",
    "\n",
    "# Print combined moves and comments\n",
    "for entry in combined_moves_comments:\n",
    "    print(entry)\n"
   ]
  },
  {
   "cell_type": "code",
   "execution_count": 14,
   "metadata": {},
   "outputs": [],
   "source": [
    "def read_pgn_and_write_to_csv(pgn_file_path, csv_file_path):\n",
    "    with open(pgn_file_path, 'r', encoding='utf-8') as pgn:\n",
    "        with open(csv_file_path, 'w', newline='', encoding='utf-8') as csvfile:\n",
    "            csvwriter = csv.writer(csvfile)\n",
    "            # Write the headers\n",
    "            csvwriter.writerow(['Game Number', 'Move Number', 'Player', 'Move', 'Comment'])\n",
    "            \n",
    "            game_number = 1\n",
    "            while True:\n",
    "                game = chess.pgn.read_game(pgn)\n",
    "                if game is None:\n",
    "                    break  # End of file or no more games\n",
    "                \n",
    "                combined_moves_comments = extract_combined_moves_and_comments(str(game))\n",
    "                \n",
    "                # Write each move's data to the CSV, prepending the game number\n",
    "                for move_number, player, move, comment in combined_moves_comments:\n",
    "                    csvwriter.writerow([game_number, move_number, player, move, comment])\n",
    "                \n",
    "                game_number += 1"
   ]
  },
  {
   "cell_type": "code",
   "execution_count": 15,
   "metadata": {},
   "outputs": [],
   "source": [
    "read_pgn_and_write_to_csv('/Users/mzk/Documents/566 Project/russian_chess.pgn', 'russian_chess.csv')"
   ]
  },
  {
   "cell_type": "code",
   "execution_count": 16,
   "metadata": {},
   "outputs": [],
   "source": [
    "def process_pgn_files(directory):\n",
    "    for filename in os.listdir(directory):\n",
    "        if filename.endswith('.pgn'):\n",
    "            pgn_file_path = os.path.join(directory, filename)\n",
    "            csv_file_path = os.path.join(directory, os.path.splitext(filename)[0] + '.csv')\n",
    "\n",
    "            # Now read the PGN file and write to the corresponding CSV file\n",
    "            read_pgn_and_write_to_csv(pgn_file_path, csv_file_path)\n",
    "            print(f\"Processed {filename} to {os.path.splitext(filename)[0] + '.csv'}\")"
   ]
  },
  {
   "cell_type": "code",
   "execution_count": 17,
   "metadata": {},
   "outputs": [
    {
     "name": "stdout",
     "output_type": "stream",
     "text": [
      "Processed linares_2002.pgn to linares_2002.csv\n",
      "Processed middleg.pgn to middleg.csv\n",
      "Processed russian_chess.pgn to russian_chess.csv\n"
     ]
    },
    {
     "ename": "UnicodeDecodeError",
     "evalue": "'utf-8' codec can't decode byte 0x94 in position 6535: invalid start byte",
     "output_type": "error",
     "traceback": [
      "\u001b[0;31m---------------------------------------------------------------------------\u001b[0m",
      "\u001b[0;31mUnicodeDecodeError\u001b[0m                        Traceback (most recent call last)",
      "Cell \u001b[0;32mIn[17], line 2\u001b[0m\n\u001b[1;32m      1\u001b[0m directory \u001b[38;5;241m=\u001b[39m \u001b[38;5;124m'\u001b[39m\u001b[38;5;124m/Users/mzk/Documents/566 Project\u001b[39m\u001b[38;5;124m'\u001b[39m\n\u001b[0;32m----> 2\u001b[0m \u001b[43mprocess_pgn_files\u001b[49m\u001b[43m(\u001b[49m\u001b[43mdirectory\u001b[49m\u001b[43m)\u001b[49m\n",
      "Cell \u001b[0;32mIn[16], line 8\u001b[0m, in \u001b[0;36mprocess_pgn_files\u001b[0;34m(directory)\u001b[0m\n\u001b[1;32m      5\u001b[0m csv_file_path \u001b[38;5;241m=\u001b[39m os\u001b[38;5;241m.\u001b[39mpath\u001b[38;5;241m.\u001b[39mjoin(directory, os\u001b[38;5;241m.\u001b[39mpath\u001b[38;5;241m.\u001b[39msplitext(filename)[\u001b[38;5;241m0\u001b[39m] \u001b[38;5;241m+\u001b[39m \u001b[38;5;124m'\u001b[39m\u001b[38;5;124m.csv\u001b[39m\u001b[38;5;124m'\u001b[39m)\n\u001b[1;32m      7\u001b[0m \u001b[38;5;66;03m# Now read the PGN file and write to the corresponding CSV file\u001b[39;00m\n\u001b[0;32m----> 8\u001b[0m \u001b[43mread_pgn_and_write_to_csv\u001b[49m\u001b[43m(\u001b[49m\u001b[43mpgn_file_path\u001b[49m\u001b[43m,\u001b[49m\u001b[43m \u001b[49m\u001b[43mcsv_file_path\u001b[49m\u001b[43m)\u001b[49m\n\u001b[1;32m      9\u001b[0m \u001b[38;5;28mprint\u001b[39m(\u001b[38;5;124mf\u001b[39m\u001b[38;5;124m\"\u001b[39m\u001b[38;5;124mProcessed \u001b[39m\u001b[38;5;132;01m{\u001b[39;00mfilename\u001b[38;5;132;01m}\u001b[39;00m\u001b[38;5;124m to \u001b[39m\u001b[38;5;132;01m{\u001b[39;00mos\u001b[38;5;241m.\u001b[39mpath\u001b[38;5;241m.\u001b[39msplitext(filename)[\u001b[38;5;241m0\u001b[39m]\u001b[38;5;250m \u001b[39m\u001b[38;5;241m+\u001b[39m\u001b[38;5;250m \u001b[39m\u001b[38;5;124m'\u001b[39m\u001b[38;5;124m.csv\u001b[39m\u001b[38;5;124m'\u001b[39m\u001b[38;5;132;01m}\u001b[39;00m\u001b[38;5;124m\"\u001b[39m)\n",
      "Cell \u001b[0;32mIn[14], line 10\u001b[0m, in \u001b[0;36mread_pgn_and_write_to_csv\u001b[0;34m(pgn_file_path, csv_file_path)\u001b[0m\n\u001b[1;32m      8\u001b[0m game_number \u001b[38;5;241m=\u001b[39m \u001b[38;5;241m1\u001b[39m\n\u001b[1;32m      9\u001b[0m \u001b[38;5;28;01mwhile\u001b[39;00m \u001b[38;5;28;01mTrue\u001b[39;00m:\n\u001b[0;32m---> 10\u001b[0m     game \u001b[38;5;241m=\u001b[39m \u001b[43mchess\u001b[49m\u001b[38;5;241;43m.\u001b[39;49m\u001b[43mpgn\u001b[49m\u001b[38;5;241;43m.\u001b[39;49m\u001b[43mread_game\u001b[49m\u001b[43m(\u001b[49m\u001b[43mpgn\u001b[49m\u001b[43m)\u001b[49m\n\u001b[1;32m     11\u001b[0m     \u001b[38;5;28;01mif\u001b[39;00m game \u001b[38;5;129;01mis\u001b[39;00m \u001b[38;5;28;01mNone\u001b[39;00m:\n\u001b[1;32m     12\u001b[0m         \u001b[38;5;28;01mbreak\u001b[39;00m  \u001b[38;5;66;03m# End of file or no more games\u001b[39;00m\n",
      "File \u001b[0;32m/opt/anaconda3/envs/chess/lib/python3.9/site-packages/chess/pgn.py:1741\u001b[0m, in \u001b[0;36mread_game\u001b[0;34m(handle, Visitor)\u001b[0m\n\u001b[1;32m   1738\u001b[0m             visitor\u001b[38;5;241m.\u001b[39mvisit_board(board_stack[\u001b[38;5;241m-\u001b[39m\u001b[38;5;241m1\u001b[39m])\n\u001b[1;32m   1740\u001b[0m     \u001b[38;5;28;01mif\u001b[39;00m fresh_line:\n\u001b[0;32m-> 1741\u001b[0m         line \u001b[38;5;241m=\u001b[39m \u001b[43mhandle\u001b[49m\u001b[38;5;241;43m.\u001b[39;49m\u001b[43mreadline\u001b[49m\u001b[43m(\u001b[49m\u001b[43m)\u001b[49m\n\u001b[1;32m   1743\u001b[0m visitor\u001b[38;5;241m.\u001b[39mend_game()\n\u001b[1;32m   1744\u001b[0m \u001b[38;5;28;01mreturn\u001b[39;00m visitor\u001b[38;5;241m.\u001b[39mresult()\n",
      "File \u001b[0;32m/opt/anaconda3/envs/chess/lib/python3.9/codecs.py:322\u001b[0m, in \u001b[0;36mBufferedIncrementalDecoder.decode\u001b[0;34m(self, input, final)\u001b[0m\n\u001b[1;32m    319\u001b[0m \u001b[38;5;28;01mdef\u001b[39;00m \u001b[38;5;21mdecode\u001b[39m(\u001b[38;5;28mself\u001b[39m, \u001b[38;5;28minput\u001b[39m, final\u001b[38;5;241m=\u001b[39m\u001b[38;5;28;01mFalse\u001b[39;00m):\n\u001b[1;32m    320\u001b[0m     \u001b[38;5;66;03m# decode input (taking the buffer into account)\u001b[39;00m\n\u001b[1;32m    321\u001b[0m     data \u001b[38;5;241m=\u001b[39m \u001b[38;5;28mself\u001b[39m\u001b[38;5;241m.\u001b[39mbuffer \u001b[38;5;241m+\u001b[39m \u001b[38;5;28minput\u001b[39m\n\u001b[0;32m--> 322\u001b[0m     (result, consumed) \u001b[38;5;241m=\u001b[39m \u001b[38;5;28;43mself\u001b[39;49m\u001b[38;5;241;43m.\u001b[39;49m\u001b[43m_buffer_decode\u001b[49m\u001b[43m(\u001b[49m\u001b[43mdata\u001b[49m\u001b[43m,\u001b[49m\u001b[43m \u001b[49m\u001b[38;5;28;43mself\u001b[39;49m\u001b[38;5;241;43m.\u001b[39;49m\u001b[43merrors\u001b[49m\u001b[43m,\u001b[49m\u001b[43m \u001b[49m\u001b[43mfinal\u001b[49m\u001b[43m)\u001b[49m\n\u001b[1;32m    323\u001b[0m     \u001b[38;5;66;03m# keep undecoded input until the next call\u001b[39;00m\n\u001b[1;32m    324\u001b[0m     \u001b[38;5;28mself\u001b[39m\u001b[38;5;241m.\u001b[39mbuffer \u001b[38;5;241m=\u001b[39m data[consumed:]\n",
      "\u001b[0;31mUnicodeDecodeError\u001b[0m: 'utf-8' codec can't decode byte 0x94 in position 6535: invalid start byte"
     ]
    }
   ],
   "source": [
    "directory = '/Users/mzk/Documents/566 Project'\n",
    "process_pgn_files(directory)"
   ]
  },
  {
   "cell_type": "code",
   "execution_count": 157,
   "metadata": {},
   "outputs": [],
   "source": [
    "#read as df limit 1000\n",
    "df = pd.read_csv('linares_2002.csv', nrows=1000)"
   ]
  },
  {
   "cell_type": "code",
   "execution_count": null,
   "metadata": {},
   "outputs": [],
   "source": []
  }
 ],
 "metadata": {
  "kernelspec": {
   "display_name": "base",
   "language": "python",
   "name": "python3"
  },
  "language_info": {
   "codemirror_mode": {
    "name": "ipython",
    "version": 3
   },
   "file_extension": ".py",
   "mimetype": "text/x-python",
   "name": "python",
   "nbconvert_exporter": "python",
   "pygments_lexer": "ipython3",
   "version": "3.9.18"
  }
 },
 "nbformat": 4,
 "nbformat_minor": 2
}
