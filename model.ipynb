{
 "cells": [
  {
   "cell_type": "code",
   "execution_count": 2,
   "metadata": {},
   "outputs": [],
   "source": [
    "import pandas as pd\n",
    "import numpy as np\n",
    "import torch "
   ]
  },
  {
   "cell_type": "code",
   "execution_count": 16,
   "metadata": {},
   "outputs": [],
   "source": [
    "hartwig = pd.read_csv('newyork1924.csv')"
   ]
  },
  {
   "cell_type": "code",
   "execution_count": 18,
   "metadata": {},
   "outputs": [
    {
     "data": {
      "text/html": [
       "<div>\n",
       "<style scoped>\n",
       "    .dataframe tbody tr th:only-of-type {\n",
       "        vertical-align: middle;\n",
       "    }\n",
       "\n",
       "    .dataframe tbody tr th {\n",
       "        vertical-align: top;\n",
       "    }\n",
       "\n",
       "    .dataframe thead th {\n",
       "        text-align: right;\n",
       "    }\n",
       "</style>\n",
       "<table border=\"1\" class=\"dataframe\">\n",
       "  <thead>\n",
       "    <tr style=\"text-align: right;\">\n",
       "      <th></th>\n",
       "      <th>Game Number</th>\n",
       "      <th>Move Number</th>\n",
       "      <th>Player</th>\n",
       "      <th>Move</th>\n",
       "      <th>Comment</th>\n",
       "    </tr>\n",
       "  </thead>\n",
       "  <tbody>\n",
       "    <tr>\n",
       "      <th>0</th>\n",
       "      <td>1</td>\n",
       "      <td>1</td>\n",
       "      <td>White</td>\n",
       "      <td>b2b4</td>\n",
       "      <td>WHAT?!?! In the true hypermodern style, Tartak...</td>\n",
       "    </tr>\n",
       "    <tr>\n",
       "      <th>1</th>\n",
       "      <td>1</td>\n",
       "      <td>2</td>\n",
       "      <td>Black</td>\n",
       "      <td>e7e6</td>\n",
       "      <td>Maroczy (Black) makes an illogical move of his...</td>\n",
       "    </tr>\n",
       "    <tr>\n",
       "      <th>2</th>\n",
       "      <td>1</td>\n",
       "      <td>3</td>\n",
       "      <td>White</td>\n",
       "      <td>c1b2</td>\n",
       "      <td>Tartakower doesn't need to defend the pawn yet...</td>\n",
       "    </tr>\n",
       "    <tr>\n",
       "      <th>3</th>\n",
       "      <td>1</td>\n",
       "      <td>4</td>\n",
       "      <td>Black</td>\n",
       "      <td>g8f6</td>\n",
       "      <td>Maroczy follows more conventional lines, devel...</td>\n",
       "    </tr>\n",
       "    <tr>\n",
       "      <th>4</th>\n",
       "      <td>1</td>\n",
       "      <td>5</td>\n",
       "      <td>White</td>\n",
       "      <td>b4b5</td>\n",
       "      <td>Tartakower inhibits the development of Black's...</td>\n",
       "    </tr>\n",
       "    <tr>\n",
       "      <th>...</th>\n",
       "      <td>...</td>\n",
       "      <td>...</td>\n",
       "      <td>...</td>\n",
       "      <td>...</td>\n",
       "      <td>...</td>\n",
       "    </tr>\n",
       "    <tr>\n",
       "      <th>10512</th>\n",
       "      <td>110</td>\n",
       "      <td>96</td>\n",
       "      <td>Black</td>\n",
       "      <td>d7d8</td>\n",
       "      <td>The King goes to the only square that still al...</td>\n",
       "    </tr>\n",
       "    <tr>\n",
       "      <th>10513</th>\n",
       "      <td>110</td>\n",
       "      <td>97</td>\n",
       "      <td>White</td>\n",
       "      <td>a7a8</td>\n",
       "      <td>To draw, all Marshall needs to do now is keep ...</td>\n",
       "    </tr>\n",
       "    <tr>\n",
       "      <th>10514</th>\n",
       "      <td>110</td>\n",
       "      <td>98</td>\n",
       "      <td>Black</td>\n",
       "      <td>d8c7</td>\n",
       "      <td>Despite his material advantage and threat on t...</td>\n",
       "    </tr>\n",
       "    <tr>\n",
       "      <th>10515</th>\n",
       "      <td>110</td>\n",
       "      <td>99</td>\n",
       "      <td>White</td>\n",
       "      <td>a8a7</td>\n",
       "      <td>Marshall checks again...</td>\n",
       "    </tr>\n",
       "    <tr>\n",
       "      <th>10516</th>\n",
       "      <td>110</td>\n",
       "      <td>100</td>\n",
       "      <td>Black</td>\n",
       "      <td>c7d8</td>\n",
       "      <td>...and Reti retreats. Rather than play out the...</td>\n",
       "    </tr>\n",
       "  </tbody>\n",
       "</table>\n",
       "<p>10517 rows × 5 columns</p>\n",
       "</div>"
      ],
      "text/plain": [
       "       Game Number  Move Number Player  Move  \\\n",
       "0                1            1  White  b2b4   \n",
       "1                1            2  Black  e7e6   \n",
       "2                1            3  White  c1b2   \n",
       "3                1            4  Black  g8f6   \n",
       "4                1            5  White  b4b5   \n",
       "...            ...          ...    ...   ...   \n",
       "10512          110           96  Black  d7d8   \n",
       "10513          110           97  White  a7a8   \n",
       "10514          110           98  Black  d8c7   \n",
       "10515          110           99  White  a8a7   \n",
       "10516          110          100  Black  c7d8   \n",
       "\n",
       "                                                 Comment  \n",
       "0      WHAT?!?! In the true hypermodern style, Tartak...  \n",
       "1      Maroczy (Black) makes an illogical move of his...  \n",
       "2      Tartakower doesn't need to defend the pawn yet...  \n",
       "3      Maroczy follows more conventional lines, devel...  \n",
       "4      Tartakower inhibits the development of Black's...  \n",
       "...                                                  ...  \n",
       "10512  The King goes to the only square that still al...  \n",
       "10513  To draw, all Marshall needs to do now is keep ...  \n",
       "10514  Despite his material advantage and threat on t...  \n",
       "10515                           Marshall checks again...  \n",
       "10516  ...and Reti retreats. Rather than play out the...  \n",
       "\n",
       "[10517 rows x 5 columns]"
      ]
     },
     "execution_count": 18,
     "metadata": {},
     "output_type": "execute_result"
    }
   ],
   "source": [
    "hartwig"
   ]
  },
  {
   "cell_type": "code",
   "execution_count": null,
   "metadata": {},
   "outputs": [],
   "source": []
  },
  {
   "cell_type": "code",
   "execution_count": 17,
   "metadata": {},
   "outputs": [
    {
     "name": "stdout",
     "output_type": "stream",
     "text": [
      "5076\n"
     ]
    }
   ],
   "source": [
    "num_nans = hartwig['Comment'].isna().sum()\n",
    "print(num_nans)\n"
   ]
  },
  {
   "cell_type": "code",
   "execution_count": null,
   "metadata": {},
   "outputs": [],
   "source": [
    "import torch\n",
    "from transformers import BertTokenizer, GPT2LMHeadModel\n",
    "\n",
    "# Define model and tokenizer\n",
    "tokenizer = BertTokenizer.from_pretrained(\"bert-base-multilingual-cased\")\n",
    "model = GPT2LMHeadModel.from_pretrained(\"gpt2\")"
   ]
  },
  {
   "cell_type": "code",
   "execution_count": null,
   "metadata": {},
   "outputs": [],
   "source": []
  },
  {
   "cell_type": "code",
   "execution_count": 22,
   "metadata": {},
   "outputs": [
    {
     "data": {
      "text/plain": [
       "566"
      ]
     },
     "execution_count": 22,
     "metadata": {},
     "output_type": "execute_result"
    }
   ],
   "source": [
    "\n",
    "\n",
    "# Hyperparameters\n",
    "learning_rate = 2e-5\n",
    "epochs = 5\n",
    "\n",
    "# Training loop\n",
    "optimizer = torch.optim.Adam(model.parameters(), lr=learning_rate)\n",
    "for epoch in range(epochs):\n",
    "  for board, move, commentary in train_data:\n",
    "    # Preprocess board, move, and commentary\n",
    "    encoded_board = tokenizer(board, return_tensors=\"pt\")\n",
    "    encoded_move = torch.tensor([move]).unsqueeze(0)\n",
    "\n",
    "    # Encode board and move\n",
    "    with torch.no_grad():\n",
    "      encoder_outputs = model.bert.encoder(encoded_board)\n",
    "\n",
    "    # Get last hidden state from encoder (encoded representation)\n",
    "    encoded_representation = encoder_outputs.last_hidden_state\n",
    "\n",
    "    # Decoder input (start token)\n",
    "    decoder_input = torch.tensor([tokenizer.encode(\"<s>\")], dtype=torch.long)\n",
    "\n",
    "    # Generate commentary one word at a time\n",
    "    for comment_word in commentary:\n",
    "      # Get decoder outputs and logits\n",
    "      decoder_outputs = model.gpt2(decoder_input, encoder_outputs=encoded_representation)\n",
    "      logits = decoder_outputs.logits[:, -1, :]\n",
    "\n",
    "      # Sample next word based on logits\n",
    "      next_word = torch.argmax(logits, dim=-1).unsqueeze(0)\n",
    "      decoder_input = torch.cat((decoder_input, next_word), dim=-1)\n",
    "\n",
    "    # Calculate loss\n",
    "    labels = torch.tensor(tokenizer.encode(commentary), dtype=torch.long)[1:]  # Ignore start token\n",
    "    loss = torch.nn.functional.cross_entropy(logits.view(-1, model.vocab_size), labels)\n",
    "\n",
    "    # Backpropagate and update weights\n",
    "    optimizer.zero_grad()\n",
    "    loss.backward()\n",
    "    optimizer.step()\n",
    "\n",
    "    # Print training progress (optional)\n",
    "    print(f\"Epoch: {epoch+1}, Loss: {loss.item()}\")\n"
   ]
  }
 ],
 "metadata": {
  "kernelspec": {
   "display_name": "chess",
   "language": "python",
   "name": "python3"
  },
  "language_info": {
   "codemirror_mode": {
    "name": "ipython",
    "version": 3
   },
   "file_extension": ".py",
   "mimetype": "text/x-python",
   "name": "python",
   "nbconvert_exporter": "python",
   "pygments_lexer": "ipython3",
   "version": "3.9.18"
  }
 },
 "nbformat": 4,
 "nbformat_minor": 2
}
