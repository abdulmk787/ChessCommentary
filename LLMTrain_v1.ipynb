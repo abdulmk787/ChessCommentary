{
  "cells": [
    {
      "cell_type": "code",
      "execution_count": 1,
      "metadata": {
        "colab": {
          "base_uri": "https://localhost:8080/"
        },
        "id": "8dE3wqIqIxxv",
        "outputId": "2318d0fb-3763-4fb7-8840-f17f079f4036",
        "scrolled": true
      },
      "outputs": [
        {
          "name": "stdout",
          "output_type": "stream",
          "text": [
            "Collecting wandb\n",
            "  Downloading wandb-0.16.6-py3-none-any.whl.metadata (10 kB)\n",
            "Collecting pandas\n",
            "  Downloading pandas-2.2.2-cp310-cp310-manylinux_2_17_x86_64.manylinux2014_x86_64.whl.metadata (19 kB)\n",
            "Collecting transformers\n",
            "  Downloading transformers-4.40.1-py3-none-any.whl.metadata (137 kB)\n",
            "\u001b[2K     \u001b[90m━━━━━━━━━━━━━━━━━━━━━━━━━━━━━━━━━━━━━━━\u001b[0m \u001b[32m138.0/138.0 kB\u001b[0m \u001b[31m4.9 MB/s\u001b[0m eta \u001b[36m0:00:00\u001b[0m\n",
            "\u001b[?25hCollecting accelerate\n",
            "  Downloading accelerate-0.30.0-py3-none-any.whl.metadata (19 kB)\n",
            "Collecting trl\n",
            "  Downloading trl-0.8.6-py3-none-any.whl.metadata (11 kB)\n",
            "Collecting bitsandbytes\n",
            "  Downloading bitsandbytes-0.43.1-py3-none-manylinux_2_24_x86_64.whl.metadata (2.2 kB)\n",
            "Collecting peft\n",
            "  Downloading peft-0.10.0-py3-none-any.whl.metadata (13 kB)\n",
            "Collecting datasets\n",
            "  Downloading datasets-2.19.0-py3-none-any.whl.metadata (19 kB)\n",
            "Collecting Click!=8.0.0,>=7.1 (from wandb)\n",
            "  Downloading click-8.1.7-py3-none-any.whl.metadata (3.0 kB)\n",
            "Collecting GitPython!=3.1.29,>=1.0.0 (from wandb)\n",
            "  Downloading GitPython-3.1.43-py3-none-any.whl.metadata (13 kB)\n",
            "Requirement already satisfied: requests<3,>=2.0.0 in /usr/local/lib/python3.10/dist-packages (from wandb) (2.31.0)\n",
            "Requirement already satisfied: psutil>=5.0.0 in /usr/local/lib/python3.10/dist-packages (from wandb) (5.9.6)\n",
            "Collecting sentry-sdk>=1.0.0 (from wandb)\n",
            "  Downloading sentry_sdk-2.0.1-py2.py3-none-any.whl.metadata (9.9 kB)\n",
            "Collecting docker-pycreds>=0.4.0 (from wandb)\n",
            "  Downloading docker_pycreds-0.4.0-py2.py3-none-any.whl.metadata (1.8 kB)\n",
            "Requirement already satisfied: PyYAML in /usr/local/lib/python3.10/dist-packages (from wandb) (6.0.1)\n",
            "Collecting setproctitle (from wandb)\n",
            "  Downloading setproctitle-1.3.3-cp310-cp310-manylinux_2_5_x86_64.manylinux1_x86_64.manylinux_2_17_x86_64.manylinux2014_x86_64.whl.metadata (9.9 kB)\n",
            "Requirement already satisfied: setuptools in /usr/local/lib/python3.10/dist-packages (from wandb) (68.2.2)\n",
            "Collecting appdirs>=1.4.3 (from wandb)\n",
            "  Downloading appdirs-1.4.4-py2.py3-none-any.whl.metadata (9.0 kB)\n",
            "Collecting protobuf!=4.21.0,<5,>=3.19.0 (from wandb)\n",
            "  Downloading protobuf-4.25.3-cp37-abi3-manylinux2014_x86_64.whl.metadata (541 bytes)\n",
            "Requirement already satisfied: numpy>=1.22.4 in /usr/local/lib/python3.10/dist-packages (from pandas) (1.24.1)\n",
            "Requirement already satisfied: python-dateutil>=2.8.2 in /usr/local/lib/python3.10/dist-packages (from pandas) (2.8.2)\n",
            "Collecting pytz>=2020.1 (from pandas)\n",
            "  Downloading pytz-2024.1-py2.py3-none-any.whl.metadata (22 kB)\n",
            "Collecting tzdata>=2022.7 (from pandas)\n",
            "  Downloading tzdata-2024.1-py2.py3-none-any.whl.metadata (1.4 kB)\n",
            "Requirement already satisfied: filelock in /usr/local/lib/python3.10/dist-packages (from transformers) (3.9.0)\n",
            "Collecting huggingface-hub<1.0,>=0.19.3 (from transformers)\n",
            "  Downloading huggingface_hub-0.23.0-py3-none-any.whl.metadata (12 kB)\n",
            "Requirement already satisfied: packaging>=20.0 in /usr/local/lib/python3.10/dist-packages (from transformers) (23.2)\n",
            "Collecting regex!=2019.12.17 (from transformers)\n",
            "  Downloading regex-2024.4.28-cp310-cp310-manylinux_2_17_x86_64.manylinux2014_x86_64.whl.metadata (40 kB)\n",
            "\u001b[2K     \u001b[90m━━━━━━━━━━━━━━━━━━━━━━━━━━━━━━━━━━━━━━━━\u001b[0m \u001b[32m40.8/40.8 kB\u001b[0m \u001b[31m9.3 MB/s\u001b[0m eta \u001b[36m0:00:00\u001b[0m\n",
            "\u001b[?25hCollecting tokenizers<0.20,>=0.19 (from transformers)\n",
            "  Downloading tokenizers-0.19.1-cp310-cp310-manylinux_2_17_x86_64.manylinux2014_x86_64.whl.metadata (6.7 kB)\n",
            "Collecting safetensors>=0.4.1 (from transformers)\n",
            "  Downloading safetensors-0.4.3-cp310-cp310-manylinux_2_17_x86_64.manylinux2014_x86_64.whl.metadata (3.8 kB)\n",
            "Collecting tqdm>=4.27 (from transformers)\n",
            "  Downloading tqdm-4.66.4-py3-none-any.whl.metadata (57 kB)\n",
            "\u001b[2K     \u001b[90m━━━━━━━━━━━━━━━━━━━━━━━━━━━━━━━━━━━━━━━━\u001b[0m \u001b[32m57.6/57.6 kB\u001b[0m \u001b[31m12.0 MB/s\u001b[0m eta \u001b[36m0:00:00\u001b[0m\n",
            "\u001b[?25hRequirement already satisfied: torch>=1.10.0 in /usr/local/lib/python3.10/dist-packages (from accelerate) (2.1.0+cu118)\n",
            "Collecting tyro>=0.5.11 (from trl)\n",
            "  Downloading tyro-0.8.3-py3-none-any.whl.metadata (7.9 kB)\n",
            "Collecting pyarrow>=12.0.0 (from datasets)\n",
            "  Downloading pyarrow-16.0.0-cp310-cp310-manylinux_2_28_x86_64.whl.metadata (3.0 kB)\n",
            "Collecting pyarrow-hotfix (from datasets)\n",
            "  Downloading pyarrow_hotfix-0.6-py3-none-any.whl.metadata (3.6 kB)\n",
            "Collecting dill<0.3.9,>=0.3.0 (from datasets)\n",
            "  Downloading dill-0.3.8-py3-none-any.whl.metadata (10 kB)\n",
            "Collecting xxhash (from datasets)\n",
            "  Downloading xxhash-3.4.1-cp310-cp310-manylinux_2_17_x86_64.manylinux2014_x86_64.whl.metadata (12 kB)\n",
            "Collecting multiprocess (from datasets)\n",
            "  Downloading multiprocess-0.70.16-py310-none-any.whl.metadata (7.2 kB)\n",
            "Requirement already satisfied: fsspec<=2024.3.1,>=2023.1.0 in /usr/local/lib/python3.10/dist-packages (from fsspec[http]<=2024.3.1,>=2023.1.0->datasets) (2023.4.0)\n",
            "Collecting aiohttp (from datasets)\n",
            "  Downloading aiohttp-3.9.5-cp310-cp310-manylinux_2_17_x86_64.manylinux2014_x86_64.whl.metadata (7.5 kB)\n",
            "Requirement already satisfied: six>=1.4.0 in /usr/lib/python3/dist-packages (from docker-pycreds>=0.4.0->wandb) (1.16.0)\n",
            "Collecting aiosignal>=1.1.2 (from aiohttp->datasets)\n",
            "  Downloading aiosignal-1.3.1-py3-none-any.whl.metadata (4.0 kB)\n",
            "Requirement already satisfied: attrs>=17.3.0 in /usr/local/lib/python3.10/dist-packages (from aiohttp->datasets) (23.1.0)\n",
            "Collecting frozenlist>=1.1.1 (from aiohttp->datasets)\n",
            "  Downloading frozenlist-1.4.1-cp310-cp310-manylinux_2_5_x86_64.manylinux1_x86_64.manylinux_2_17_x86_64.manylinux2014_x86_64.whl.metadata (12 kB)\n",
            "Collecting multidict<7.0,>=4.5 (from aiohttp->datasets)\n",
            "  Downloading multidict-6.0.5-cp310-cp310-manylinux_2_17_x86_64.manylinux2014_x86_64.whl.metadata (4.2 kB)\n",
            "Collecting yarl<2.0,>=1.0 (from aiohttp->datasets)\n",
            "  Downloading yarl-1.9.4-cp310-cp310-manylinux_2_17_x86_64.manylinux2014_x86_64.whl.metadata (31 kB)\n",
            "Collecting async-timeout<5.0,>=4.0 (from aiohttp->datasets)\n",
            "  Downloading async_timeout-4.0.3-py3-none-any.whl.metadata (4.2 kB)\n",
            "Collecting gitdb<5,>=4.0.1 (from GitPython!=3.1.29,>=1.0.0->wandb)\n",
            "  Downloading gitdb-4.0.11-py3-none-any.whl.metadata (1.2 kB)\n",
            "INFO: pip is looking at multiple versions of huggingface-hub to determine which version is compatible with other requirements. This could take a while.\n",
            "Collecting huggingface-hub<1.0,>=0.19.3 (from transformers)\n",
            "  Downloading huggingface_hub-0.22.2-py3-none-any.whl.metadata (12 kB)\n",
            "  Downloading huggingface_hub-0.22.1-py3-none-any.whl.metadata (12 kB)\n",
            "  Downloading huggingface_hub-0.22.0-py3-none-any.whl.metadata (12 kB)\n",
            "  Downloading huggingface_hub-0.21.4-py3-none-any.whl.metadata (13 kB)\n",
            "  Downloading huggingface_hub-0.21.3-py3-none-any.whl.metadata (13 kB)\n",
            "  Downloading huggingface_hub-0.21.2-py3-none-any.whl.metadata (13 kB)\n",
            "Collecting fsspec[http]<=2024.3.1,>=2023.1.0 (from datasets)\n",
            "  Downloading fsspec-2024.3.1-py3-none-any.whl.metadata (6.8 kB)\n",
            "Requirement already satisfied: typing-extensions>=3.7.4.3 in /usr/local/lib/python3.10/dist-packages (from huggingface-hub<1.0,>=0.19.3->transformers) (4.4.0)\n",
            "Requirement already satisfied: charset-normalizer<4,>=2 in /usr/local/lib/python3.10/dist-packages (from requests<3,>=2.0.0->wandb) (2.1.1)\n",
            "Requirement already satisfied: idna<4,>=2.5 in /usr/local/lib/python3.10/dist-packages (from requests<3,>=2.0.0->wandb) (3.4)\n",
            "Requirement already satisfied: urllib3<3,>=1.21.1 in /usr/local/lib/python3.10/dist-packages (from requests<3,>=2.0.0->wandb) (1.26.13)\n",
            "Requirement already satisfied: certifi>=2017.4.17 in /usr/local/lib/python3.10/dist-packages (from requests<3,>=2.0.0->wandb) (2022.12.7)\n",
            "Requirement already satisfied: sympy in /usr/local/lib/python3.10/dist-packages (from torch>=1.10.0->accelerate) (1.12)\n",
            "Requirement already satisfied: networkx in /usr/local/lib/python3.10/dist-packages (from torch>=1.10.0->accelerate) (3.0)\n",
            "Requirement already satisfied: jinja2 in /usr/local/lib/python3.10/dist-packages (from torch>=1.10.0->accelerate) (3.1.2)\n",
            "Requirement already satisfied: triton==2.1.0 in /usr/local/lib/python3.10/dist-packages (from torch>=1.10.0->accelerate) (2.1.0)\n",
            "Collecting docstring-parser>=0.14.1 (from tyro>=0.5.11->trl)\n",
            "  Downloading docstring_parser-0.16-py3-none-any.whl.metadata (3.0 kB)\n",
            "Collecting typing-extensions>=3.7.4.3 (from huggingface-hub<1.0,>=0.19.3->transformers)\n",
            "  Downloading typing_extensions-4.11.0-py3-none-any.whl.metadata (3.0 kB)\n",
            "Collecting rich>=11.1.0 (from tyro>=0.5.11->trl)\n",
            "  Downloading rich-13.7.1-py3-none-any.whl.metadata (18 kB)\n",
            "Collecting shtab>=1.5.6 (from tyro>=0.5.11->trl)\n",
            "  Downloading shtab-1.7.1-py3-none-any.whl.metadata (7.3 kB)\n",
            "Collecting smmap<6,>=3.0.1 (from gitdb<5,>=4.0.1->GitPython!=3.1.29,>=1.0.0->wandb)\n",
            "  Downloading smmap-5.0.1-py3-none-any.whl.metadata (4.3 kB)\n",
            "Collecting markdown-it-py>=2.2.0 (from rich>=11.1.0->tyro>=0.5.11->trl)\n",
            "  Downloading markdown_it_py-3.0.0-py3-none-any.whl.metadata (6.9 kB)\n",
            "Requirement already satisfied: pygments<3.0.0,>=2.13.0 in /usr/local/lib/python3.10/dist-packages (from rich>=11.1.0->tyro>=0.5.11->trl) (2.16.1)\n",
            "Requirement already satisfied: MarkupSafe>=2.0 in /usr/local/lib/python3.10/dist-packages (from jinja2->torch>=1.10.0->accelerate) (2.1.2)\n",
            "Requirement already satisfied: mpmath>=0.19 in /usr/local/lib/python3.10/dist-packages (from sympy->torch>=1.10.0->accelerate) (1.3.0)\n",
            "Collecting mdurl~=0.1 (from markdown-it-py>=2.2.0->rich>=11.1.0->tyro>=0.5.11->trl)\n",
            "  Downloading mdurl-0.1.2-py3-none-any.whl.metadata (1.6 kB)\n",
            "Downloading wandb-0.16.6-py3-none-any.whl (2.2 MB)\n",
            "\u001b[2K   \u001b[90m━━━━━━━━━━━━━━━━━━━━━━━━━━━━━━━━━━━━━━━━\u001b[0m \u001b[32m2.2/2.2 MB\u001b[0m \u001b[31m19.3 MB/s\u001b[0m eta \u001b[36m0:00:00\u001b[0m00:01\u001b[0m00:01\u001b[0m\n",
            "\u001b[?25hDownloading pandas-2.2.2-cp310-cp310-manylinux_2_17_x86_64.manylinux2014_x86_64.whl (13.0 MB)\n",
            "\u001b[2K   \u001b[90m━━━━━━━━━━━━━━━━━━━━━━━━━━━━━━━━━━━━━━━━\u001b[0m \u001b[32m13.0/13.0 MB\u001b[0m \u001b[31m19.9 MB/s\u001b[0m eta \u001b[36m0:00:00\u001b[0m00:01\u001b[0m00:01\u001b[0m\n",
            "\u001b[?25hDownloading transformers-4.40.1-py3-none-any.whl (9.0 MB)\n",
            "\u001b[2K   \u001b[90m━━━━━━━━━━━━━━━━━━━━━━━━━━━━━━━━━━━━━━━━\u001b[0m \u001b[32m9.0/9.0 MB\u001b[0m \u001b[31m22.7 MB/s\u001b[0m eta \u001b[36m0:00:00\u001b[0ma \u001b[36m0:00:01\u001b[0m\n",
            "\u001b[?25hDownloading accelerate-0.30.0-py3-none-any.whl (302 kB)\n",
            "\u001b[2K   \u001b[90m━━━━━━━━━━━━━━━━━━━━━━━━━━━━━━━━━━━━━━━━\u001b[0m \u001b[32m302.4/302.4 kB\u001b[0m \u001b[31m39.1 MB/s\u001b[0m eta \u001b[36m0:00:00\u001b[0m\n",
            "\u001b[?25hDownloading trl-0.8.6-py3-none-any.whl (245 kB)\n",
            "\u001b[2K   \u001b[90m━━━━━━━━━━━━━━━━━━━━━━━━━━━━━━━━━━━━━━━━\u001b[0m \u001b[32m245.2/245.2 kB\u001b[0m \u001b[31m40.9 MB/s\u001b[0m eta \u001b[36m0:00:00\u001b[0m\n",
            "\u001b[?25hDownloading bitsandbytes-0.43.1-py3-none-manylinux_2_24_x86_64.whl (119.8 MB)\n",
            "\u001b[2K   \u001b[90m━━━━━━━━━━━━━━━━━━━━━━━━━━━━━━━━━━━━━━━━\u001b[0m \u001b[32m119.8/119.8 MB\u001b[0m \u001b[31m24.4 MB/s\u001b[0m eta \u001b[36m0:00:00\u001b[0m00:01\u001b[0m00:01\u001b[0m\n",
            "\u001b[?25hDownloading peft-0.10.0-py3-none-any.whl (199 kB)\n",
            "\u001b[2K   \u001b[90m━━━━━━━━━━━━━━━━━━━━━━━━━━━━━━━━━━━━━━━━\u001b[0m \u001b[32m199.1/199.1 kB\u001b[0m \u001b[31m37.2 MB/s\u001b[0m eta \u001b[36m0:00:00\u001b[0m\n",
            "\u001b[?25hDownloading datasets-2.19.0-py3-none-any.whl (542 kB)\n",
            "\u001b[2K   \u001b[90m━━━━━━━━━━━━━━━━━━━━━━━━━━━━━━━━━━━━━━━━\u001b[0m \u001b[32m542.0/542.0 kB\u001b[0m \u001b[31m34.9 MB/s\u001b[0m eta \u001b[36m0:00:00\u001b[0m\n",
            "\u001b[?25hDownloading appdirs-1.4.4-py2.py3-none-any.whl (9.6 kB)\n",
            "Downloading click-8.1.7-py3-none-any.whl (97 kB)\n",
            "\u001b[2K   \u001b[90m━━━━━━━━━━━━━━━━━━━━━━━━━━━━━━━━━━━━━━━━\u001b[0m \u001b[32m97.9/97.9 kB\u001b[0m \u001b[31m24.4 MB/s\u001b[0m eta \u001b[36m0:00:00\u001b[0m\n",
            "\u001b[?25hDownloading dill-0.3.8-py3-none-any.whl (116 kB)\n",
            "\u001b[2K   \u001b[90m━━━━━━━━━━━━━━━━━━━━━━━━━━━━━━━━━━━━━━━━\u001b[0m \u001b[32m116.3/116.3 kB\u001b[0m \u001b[31m29.9 MB/s\u001b[0m eta \u001b[36m0:00:00\u001b[0m\n",
            "\u001b[?25hDownloading docker_pycreds-0.4.0-py2.py3-none-any.whl (9.0 kB)\n",
            "Downloading fsspec-2024.3.1-py3-none-any.whl (171 kB)\n",
            "\u001b[2K   \u001b[90m━━━━━━━━━━━━━━━━━━━━━━━━━━━━━━━━━━━━━━━━\u001b[0m \u001b[32m172.0/172.0 kB\u001b[0m \u001b[31m39.3 MB/s\u001b[0m eta \u001b[36m0:00:00\u001b[0m\n",
            "\u001b[?25hDownloading huggingface_hub-0.23.0-py3-none-any.whl (401 kB)\n",
            "\u001b[2K   \u001b[90m━━━━━━━━━━━━━━━━━━━━━━━━━━━━━━━━━━━━━━━━\u001b[0m \u001b[32m401.2/401.2 kB\u001b[0m \u001b[31m60.3 MB/s\u001b[0m eta \u001b[36m0:00:00\u001b[0m\n",
            "\u001b[?25hDownloading aiohttp-3.9.5-cp310-cp310-manylinux_2_17_x86_64.manylinux2014_x86_64.whl (1.2 MB)\n",
            "\u001b[2K   \u001b[90m━━━━━━━━━━━━━━━━━━━━━━━━━━━━━━━━━━━━━━━━\u001b[0m \u001b[32m1.2/1.2 MB\u001b[0m \u001b[31m41.6 MB/s\u001b[0m eta \u001b[36m0:00:00\u001b[0m\n",
            "\u001b[?25hDownloading GitPython-3.1.43-py3-none-any.whl (207 kB)\n",
            "\u001b[2K   \u001b[90m━━━━━━━━━━━━━━━━━━━━━━━━━━━━━━━━━━━━━━━━\u001b[0m \u001b[32m207.3/207.3 kB\u001b[0m \u001b[31m49.6 MB/s\u001b[0m eta \u001b[36m0:00:00\u001b[0m\n",
            "\u001b[?25hDownloading protobuf-4.25.3-cp37-abi3-manylinux2014_x86_64.whl (294 kB)\n",
            "\u001b[2K   \u001b[90m━━━━━━━━━━━━━━━━━━━━━━━━━━━━━━━━━━━━━━━━\u001b[0m \u001b[32m294.6/294.6 kB\u001b[0m \u001b[31m59.3 MB/s\u001b[0m eta \u001b[36m0:00:00\u001b[0m\n",
            "\u001b[?25hDownloading pyarrow-16.0.0-cp310-cp310-manylinux_2_28_x86_64.whl (40.8 MB)\n",
            "\u001b[2K   \u001b[90m━━━━━━━━━━━━━━━━━━━━━━━━━━━━━━━━━━━━━━━━\u001b[0m \u001b[32m40.8/40.8 MB\u001b[0m \u001b[31m36.0 MB/s\u001b[0m eta \u001b[36m0:00:00\u001b[0m00:01\u001b[0m00:01\u001b[0m\n",
            "\u001b[?25hDownloading pytz-2024.1-py2.py3-none-any.whl (505 kB)\n",
            "\u001b[2K   \u001b[90m━━━━━━━━━━━━━━━━━━━━━━━━━━━━━━━━━━━━━━━━\u001b[0m \u001b[32m505.5/505.5 kB\u001b[0m \u001b[31m74.9 MB/s\u001b[0m eta \u001b[36m0:00:00\u001b[0m\n",
            "\u001b[?25hDownloading regex-2024.4.28-cp310-cp310-manylinux_2_17_x86_64.manylinux2014_x86_64.whl (774 kB)\n",
            "\u001b[2K   \u001b[90m━━━━━━━━━━━━━━━━━━━━━━━━━━━━━━━━━━━━━━━━\u001b[0m \u001b[32m774.1/774.1 kB\u001b[0m \u001b[31m44.5 MB/s\u001b[0m eta \u001b[36m0:00:00\u001b[0m\n",
            "\u001b[?25hDownloading safetensors-0.4.3-cp310-cp310-manylinux_2_17_x86_64.manylinux2014_x86_64.whl (1.2 MB)\n",
            "\u001b[2K   \u001b[90m━━━━━━━━━━━━━━━━━━━━━━━━━━━━━━━━━━━━━━━━\u001b[0m \u001b[32m1.2/1.2 MB\u001b[0m \u001b[31m44.0 MB/s\u001b[0m eta \u001b[36m0:00:00\u001b[0m\n",
            "\u001b[?25hDownloading sentry_sdk-2.0.1-py2.py3-none-any.whl (266 kB)\n",
            "\u001b[2K   \u001b[90m━━━━━━━━━━━━━━━━━━━━━━━━━━━━━━━━━━━━━━━━\u001b[0m \u001b[32m266.8/266.8 kB\u001b[0m \u001b[31m54.2 MB/s\u001b[0m eta \u001b[36m0:00:00\u001b[0m\n",
            "\u001b[?25hDownloading tokenizers-0.19.1-cp310-cp310-manylinux_2_17_x86_64.manylinux2014_x86_64.whl (3.6 MB)\n",
            "\u001b[2K   \u001b[90m━━━━━━━━━━━━━━━━━━━━━━━━━━━━━━━━━━━━━━━━\u001b[0m \u001b[32m3.6/3.6 MB\u001b[0m \u001b[31m41.6 MB/s\u001b[0m eta \u001b[36m0:00:00\u001b[0ma \u001b[36m0:00:01\u001b[0m\n",
            "\u001b[?25hDownloading tqdm-4.66.4-py3-none-any.whl (78 kB)\n",
            "\u001b[2K   \u001b[90m━━━━━━━━━━━━━━━━━━━━━━━━━━━━━━━━━━━━━━━━\u001b[0m \u001b[32m78.3/78.3 kB\u001b[0m \u001b[31m13.6 MB/s\u001b[0m eta \u001b[36m0:00:00\u001b[0m\n",
            "\u001b[?25hDownloading tyro-0.8.3-py3-none-any.whl (102 kB)\n",
            "\u001b[2K   \u001b[90m━━━━━━━━━━━━━━━━━━━━━━━━━━━━━━━━━━━━━━━━\u001b[0m \u001b[32m102.0/102.0 kB\u001b[0m \u001b[31m28.6 MB/s\u001b[0m eta \u001b[36m0:00:00\u001b[0m\n",
            "\u001b[?25hDownloading tzdata-2024.1-py2.py3-none-any.whl (345 kB)\n",
            "\u001b[2K   \u001b[90m━━━━━━━━━━━━━━━━━━━━━━━━━━━━━━━━━━━━━━━━\u001b[0m \u001b[32m345.4/345.4 kB\u001b[0m \u001b[31m78.2 MB/s\u001b[0m eta \u001b[36m0:00:00\u001b[0m\n",
            "\u001b[?25hDownloading multiprocess-0.70.16-py310-none-any.whl (134 kB)\n",
            "\u001b[2K   \u001b[90m━━━━━━━━━━━━━━━━━━━━━━━━━━━━━━━━━━━━━━━━\u001b[0m \u001b[32m134.8/134.8 kB\u001b[0m \u001b[31m22.1 MB/s\u001b[0m eta \u001b[36m0:00:00\u001b[0m\n",
            "\u001b[?25hDownloading pyarrow_hotfix-0.6-py3-none-any.whl (7.9 kB)\n",
            "Downloading setproctitle-1.3.3-cp310-cp310-manylinux_2_5_x86_64.manylinux1_x86_64.manylinux_2_17_x86_64.manylinux2014_x86_64.whl (30 kB)\n",
            "Downloading xxhash-3.4.1-cp310-cp310-manylinux_2_17_x86_64.manylinux2014_x86_64.whl (194 kB)\n",
            "\u001b[2K   \u001b[90m━━━━━━━━━━━━━━━━━━━━━━━━━━━━━━━━━━━━━━━━\u001b[0m \u001b[32m194.1/194.1 kB\u001b[0m \u001b[31m31.6 MB/s\u001b[0m eta \u001b[36m0:00:00\u001b[0m\n",
            "\u001b[?25hDownloading aiosignal-1.3.1-py3-none-any.whl (7.6 kB)\n",
            "Downloading async_timeout-4.0.3-py3-none-any.whl (5.7 kB)\n",
            "Downloading docstring_parser-0.16-py3-none-any.whl (36 kB)\n",
            "Downloading frozenlist-1.4.1-cp310-cp310-manylinux_2_5_x86_64.manylinux1_x86_64.manylinux_2_17_x86_64.manylinux2014_x86_64.whl (239 kB)\n",
            "\u001b[2K   \u001b[90m━━━━━━━━━━━━━━━━━━━━━━━━━━━━━━━━━━━━━━━━\u001b[0m \u001b[32m239.5/239.5 kB\u001b[0m \u001b[31m67.9 MB/s\u001b[0m eta \u001b[36m0:00:00\u001b[0m\n",
            "\u001b[?25hDownloading gitdb-4.0.11-py3-none-any.whl (62 kB)\n",
            "\u001b[2K   \u001b[90m━━━━━━━━━━━━━━━━━━━━━━━━━━━━━━━━━━━━━━━━\u001b[0m \u001b[32m62.7/62.7 kB\u001b[0m \u001b[31m16.4 MB/s\u001b[0m eta \u001b[36m0:00:00\u001b[0m\n",
            "\u001b[?25hDownloading multidict-6.0.5-cp310-cp310-manylinux_2_17_x86_64.manylinux2014_x86_64.whl (124 kB)\n",
            "\u001b[2K   \u001b[90m━━━━━━━━━━━━━━━━━━━━━━━━━━━━━━━━━━━━━━━━\u001b[0m \u001b[32m124.3/124.3 kB\u001b[0m \u001b[31m26.8 MB/s\u001b[0m eta \u001b[36m0:00:00\u001b[0m\n",
            "\u001b[?25hDownloading rich-13.7.1-py3-none-any.whl (240 kB)\n",
            "\u001b[2K   \u001b[90m━━━━━━━━━━━━━━━━━━━━━━━━━━━━━━━━━━━━━━━━\u001b[0m \u001b[32m240.7/240.7 kB\u001b[0m \u001b[31m63.8 MB/s\u001b[0m eta \u001b[36m0:00:00\u001b[0m\n",
            "\u001b[?25hDownloading shtab-1.7.1-py3-none-any.whl (14 kB)\n",
            "Downloading typing_extensions-4.11.0-py3-none-any.whl (34 kB)\n",
            "Downloading yarl-1.9.4-cp310-cp310-manylinux_2_17_x86_64.manylinux2014_x86_64.whl (301 kB)\n",
            "\u001b[2K   \u001b[90m━━━━━━━━━━━━━━━━━━━━━━━━━━━━━━━━━━━━━━━━\u001b[0m \u001b[32m301.6/301.6 kB\u001b[0m \u001b[31m52.9 MB/s\u001b[0m eta \u001b[36m0:00:00\u001b[0m\n",
            "\u001b[?25hDownloading markdown_it_py-3.0.0-py3-none-any.whl (87 kB)\n",
            "\u001b[2K   \u001b[90m━━━━━━━━━━━━━━━━━━━━━━━━━━━━━━━━━━━━━━━━\u001b[0m \u001b[32m87.5/87.5 kB\u001b[0m \u001b[31m27.3 MB/s\u001b[0m eta \u001b[36m0:00:00\u001b[0m\n",
            "\u001b[?25hDownloading smmap-5.0.1-py3-none-any.whl (24 kB)\n",
            "Downloading mdurl-0.1.2-py3-none-any.whl (10.0 kB)\n",
            "Installing collected packages: pytz, appdirs, xxhash, tzdata, typing-extensions, tqdm, smmap, shtab, setproctitle, sentry-sdk, safetensors, regex, pyarrow-hotfix, pyarrow, protobuf, multidict, mdurl, fsspec, frozenlist, docstring-parser, docker-pycreds, dill, Click, async-timeout, yarl, pandas, multiprocess, markdown-it-py, huggingface-hub, gitdb, aiosignal, tokenizers, rich, GitPython, bitsandbytes, aiohttp, accelerate, wandb, tyro, transformers, peft, datasets, trl\n",
            "  Attempting uninstall: typing-extensions\n",
            "    Found existing installation: typing_extensions 4.4.0\n",
            "    Uninstalling typing_extensions-4.4.0:\n",
            "      Successfully uninstalled typing_extensions-4.4.0\n",
            "  Attempting uninstall: fsspec\n",
            "    Found existing installation: fsspec 2023.4.0\n",
            "    Uninstalling fsspec-2023.4.0:\n",
            "      Successfully uninstalled fsspec-2023.4.0\n",
            "Successfully installed Click-8.1.7 GitPython-3.1.43 accelerate-0.30.0 aiohttp-3.9.5 aiosignal-1.3.1 appdirs-1.4.4 async-timeout-4.0.3 bitsandbytes-0.43.1 datasets-2.19.0 dill-0.3.8 docker-pycreds-0.4.0 docstring-parser-0.16 frozenlist-1.4.1 fsspec-2024.3.1 gitdb-4.0.11 huggingface-hub-0.23.0 markdown-it-py-3.0.0 mdurl-0.1.2 multidict-6.0.5 multiprocess-0.70.16 pandas-2.2.2 peft-0.10.0 protobuf-4.25.3 pyarrow-16.0.0 pyarrow-hotfix-0.6 pytz-2024.1 regex-2024.4.28 rich-13.7.1 safetensors-0.4.3 sentry-sdk-2.0.1 setproctitle-1.3.3 shtab-1.7.1 smmap-5.0.1 tokenizers-0.19.1 tqdm-4.66.4 transformers-4.40.1 trl-0.8.6 typing-extensions-4.11.0 tyro-0.8.3 tzdata-2024.1 wandb-0.16.6 xxhash-3.4.1 yarl-1.9.4\n",
            "\u001b[33mWARNING: Running pip as the 'root' user can result in broken permissions and conflicting behaviour with the system package manager. It is recommended to use a virtual environment instead: https://pip.pypa.io/warnings/venv\u001b[0m\u001b[33m\n",
            "\u001b[0m\n",
            "\u001b[1m[\u001b[0m\u001b[34;49mnotice\u001b[0m\u001b[1;39;49m]\u001b[0m\u001b[39;49m A new release of pip is available: \u001b[0m\u001b[31;49m23.3.1\u001b[0m\u001b[39;49m -> \u001b[0m\u001b[32;49m24.0\u001b[0m\n",
            "\u001b[1m[\u001b[0m\u001b[34;49mnotice\u001b[0m\u001b[1;39;49m]\u001b[0m\u001b[39;49m To update, run: \u001b[0m\u001b[32;49mpython -m pip install --upgrade pip\u001b[0m\n"
          ]
        }
      ],
      "source": [
        "!pip install wandb pandas transformers accelerate trl bitsandbytes peft datasets"
      ]
    },
    {
      "cell_type": "code",
      "execution_count": 2,
      "metadata": {
        "id": "wyytxRKF8lQ3"
      },
      "outputs": [],
      "source": [
        "import pandas as pd\n",
        "import numpy as np\n",
        "from torch.utils.data import DataLoader, random_split\n",
        "import wandb\n",
        "from transformers import AdamW, get_linear_schedule_with_warmup\n",
        "from tqdm import tqdm\n",
        "import time\n",
        "import torch\n",
        "from torch.utils.data import Dataset"
      ]
    },
    {
      "cell_type": "code",
      "execution_count": 3,
      "metadata": {
        "colab": {
          "base_uri": "https://localhost:8080/"
        },
        "id": "Q18RO4uBI901",
        "outputId": "ee95d7ac-23b3-47a2-b434-213e97a78715"
      },
      "outputs": [
        {
          "name": "stderr",
          "output_type": "stream",
          "text": [
            "Failed to detect the name of this notebook, you can set it manually with the WANDB_NOTEBOOK_NAME environment variable to enable code saving.\n",
            "\u001b[34m\u001b[1mwandb\u001b[0m: Logging into wandb.ai. (Learn how to deploy a W&B server locally: https://wandb.me/wandb-server)\n",
            "\u001b[34m\u001b[1mwandb\u001b[0m: You can find your API key in your browser here: https://wandb.ai/authorize\n",
            "\u001b[34m\u001b[1mwandb\u001b[0m: Paste an API key from your profile and hit enter, or press ctrl+c to quit:\u001b[34m\u001b[1mwandb\u001b[0m: Appending key for api.wandb.ai to your netrc file: /root/.netrc\n"
          ]
        },
        {
          "data": {
            "text/plain": [
              "True"
            ]
          },
          "execution_count": 3,
          "metadata": {},
          "output_type": "execute_result"
        }
      ],
      "source": [
        "wandb.login()"
      ]
    },
    {
      "cell_type": "code",
      "execution_count": 12,
      "metadata": {
        "id": "HkwUL1OF8jTX"
      },
      "outputs": [],
      "source": [
        "df = pd.read_csv(\"./combined.csv\")"
      ]
    },
    {
      "cell_type": "code",
      "execution_count": 13,
      "metadata": {
        "colab": {
          "base_uri": "https://localhost:8080/",
          "height": 306
        },
        "id": "gbPbFS5-9yoK",
        "outputId": "edee089d-ec5f-4403-fbd5-c0d5992bce78"
      },
      "outputs": [
        {
          "data": {
            "text/html": [
              "<div>\n",
              "<style scoped>\n",
              "    .dataframe tbody tr th:only-of-type {\n",
              "        vertical-align: middle;\n",
              "    }\n",
              "\n",
              "    .dataframe tbody tr th {\n",
              "        vertical-align: top;\n",
              "    }\n",
              "\n",
              "    .dataframe thead th {\n",
              "        text-align: right;\n",
              "    }\n",
              "</style>\n",
              "<table border=\"1\" class=\"dataframe\">\n",
              "  <thead>\n",
              "    <tr style=\"text-align: right;\">\n",
              "      <th></th>\n",
              "      <th>Game Number</th>\n",
              "      <th>Move Number</th>\n",
              "      <th>Player</th>\n",
              "      <th>Move</th>\n",
              "      <th>Board</th>\n",
              "      <th>Comment</th>\n",
              "      <th>FEN</th>\n",
              "    </tr>\n",
              "  </thead>\n",
              "  <tbody>\n",
              "    <tr>\n",
              "      <th>0</th>\n",
              "      <td>2263</td>\n",
              "      <td>1</td>\n",
              "      <td>White</td>\n",
              "      <td>d2d4</td>\n",
              "      <td>r n b q k b n r\\np p p p p p p p\\n. . . . . . ...</td>\n",
              "      <td>NaN</td>\n",
              "      <td>rnbqkbnr/pppppppp/8/8/8/8/PPPPPPPP/RNBQKBNR w ...</td>\n",
              "    </tr>\n",
              "    <tr>\n",
              "      <th>1</th>\n",
              "      <td>2263</td>\n",
              "      <td>2</td>\n",
              "      <td>Black</td>\n",
              "      <td>g8f6</td>\n",
              "      <td>r n b q k b n r\\np p p p p p p p\\n. . . . . . ...</td>\n",
              "      <td>NaN</td>\n",
              "      <td>rnbqkbnr/pppppppp/8/8/3P4/8/PPP1PPPP/RNBQKBNR ...</td>\n",
              "    </tr>\n",
              "    <tr>\n",
              "      <th>2</th>\n",
              "      <td>2263</td>\n",
              "      <td>3</td>\n",
              "      <td>White</td>\n",
              "      <td>c2c4</td>\n",
              "      <td>r n b q k b . r\\np p p p p p p p\\n. . . . . n ...</td>\n",
              "      <td>NaN</td>\n",
              "      <td>rnbqkb1r/pppppppp/5n2/8/3P4/8/PPP1PPPP/RNBQKBN...</td>\n",
              "    </tr>\n",
              "    <tr>\n",
              "      <th>3</th>\n",
              "      <td>2263</td>\n",
              "      <td>4</td>\n",
              "      <td>Black</td>\n",
              "      <td>g7g6</td>\n",
              "      <td>r n b q k b . r\\np p p p p p p p\\n. . . . . n ...</td>\n",
              "      <td>NaN</td>\n",
              "      <td>rnbqkb1r/pppppppp/5n2/8/2PP4/8/PP2PPPP/RNBQKBN...</td>\n",
              "    </tr>\n",
              "    <tr>\n",
              "      <th>4</th>\n",
              "      <td>2263</td>\n",
              "      <td>5</td>\n",
              "      <td>White</td>\n",
              "      <td>b1c3</td>\n",
              "      <td>r n b q k b . r\\np p p p p p . p\\n. . . . . n ...</td>\n",
              "      <td>NaN</td>\n",
              "      <td>rnbqkb1r/pppppp1p/5np1/8/2PP4/8/PP2PPPP/RNBQKB...</td>\n",
              "    </tr>\n",
              "  </tbody>\n",
              "</table>\n",
              "</div>"
            ],
            "text/plain": [
              "   Game Number  Move Number Player  Move  \\\n",
              "0         2263            1  White  d2d4   \n",
              "1         2263            2  Black  g8f6   \n",
              "2         2263            3  White  c2c4   \n",
              "3         2263            4  Black  g7g6   \n",
              "4         2263            5  White  b1c3   \n",
              "\n",
              "                                               Board Comment  \\\n",
              "0  r n b q k b n r\\np p p p p p p p\\n. . . . . . ...     NaN   \n",
              "1  r n b q k b n r\\np p p p p p p p\\n. . . . . . ...     NaN   \n",
              "2  r n b q k b . r\\np p p p p p p p\\n. . . . . n ...     NaN   \n",
              "3  r n b q k b . r\\np p p p p p p p\\n. . . . . n ...     NaN   \n",
              "4  r n b q k b . r\\np p p p p p . p\\n. . . . . n ...     NaN   \n",
              "\n",
              "                                                 FEN  \n",
              "0  rnbqkbnr/pppppppp/8/8/8/8/PPPPPPPP/RNBQKBNR w ...  \n",
              "1  rnbqkbnr/pppppppp/8/8/3P4/8/PPP1PPPP/RNBQKBNR ...  \n",
              "2  rnbqkb1r/pppppppp/5n2/8/3P4/8/PPP1PPPP/RNBQKBN...  \n",
              "3  rnbqkb1r/pppppppp/5n2/8/2PP4/8/PP2PPPP/RNBQKBN...  \n",
              "4  rnbqkb1r/pppppp1p/5np1/8/2PP4/8/PP2PPPP/RNBQKB...  "
            ]
          },
          "execution_count": 13,
          "metadata": {},
          "output_type": "execute_result"
        }
      ],
      "source": [
        "import re\n",
        "\n",
        "def board_to_fen(board, player, move_number):\n",
        "    # Extract rows and reverse to match FEN order (from 8th to 1st rank)\n",
        "    rows = board.strip().split('\\n')\n",
        "\n",
        "    # Convert board rows to FEN format\n",
        "    fen_rows = []\n",
        "    for row in rows:\n",
        "        clean_row = re.sub(r\"\\s+\", \"\", row)  # Remove spaces\n",
        "        # Correctly replace consecutive dots with the count\n",
        "        fen_row = re.sub(r\"(\\.+) \", lambda m: str(len(m.group(1))), clean_row)  # Incorrectly placed space\n",
        "        fen_row = re.sub(r\"\\.+\", lambda m: str(len(m.group(0))), fen_row)  # Handle all dots\n",
        "        fen_rows.append(fen_row)\n",
        "\n",
        "    fen_pieces = \"/\".join(fen_rows)\n",
        "\n",
        "    # Active color ('w' for White, 'b' for Black)\n",
        "    active_color = 'w' if player == 'White' else 'b'\n",
        "\n",
        "    # Default values for other FEN components (assuming basic capabilities)\n",
        "    castling_availability = 'KQkq'  # Assuming all castling is still possible\n",
        "    en_passant_target = '-'  # No en passant target\n",
        "    halfmove_clock = '0'  # Reset on pawn moves or captures, not shown here\n",
        "    fullmove_number = str(move_number)\n",
        "\n",
        "    # Compile full FEN string\n",
        "    fen = f\"{fen_pieces} {active_color} {castling_availability} {en_passant_target} {halfmove_clock} {fullmove_number}\"\n",
        "    return fen\n",
        "\n",
        "df['FEN'] = df.apply(lambda row: board_to_fen(row['Board'], row['Player'], row['Move Number']), axis=1)\n",
        "df.head()\n"
      ]
    },
    {
      "cell_type": "code",
      "execution_count": 7,
      "metadata": {
        "id": "gYeg4UWLAty4"
      },
      "outputs": [],
      "source": [
        "config = {\n",
        "    'Model': 'llm',\n",
        "    'NUMER_OF_DATA_DIRS': 12,\n",
        "    'batch_size': 4,\n",
        "    'lr':  1e-4,\n",
        "    'train_precentege': 0.9,\n",
        "    'epochs': 2,\n",
        "    'data_to_use': {'<fen>': True, '<moves>': True, '<last move description>': False,\n",
        "                    '<legal moves>': False, '<attacked by>': False, '<attacks>': False},\n",
        "    'max_length':350\n",
        "}"
      ]
    },
    {
      "cell_type": "code",
      "execution_count": 9,
      "metadata": {
        "id": "QUE8Q50n0yhi"
      },
      "outputs": [],
      "source": [
        "\n",
        "import json\n",
        "\n",
        "with open('moves.json', 'r') as f:\n",
        "  uci_moves = json.load(f)\n"
      ]
    },
    {
      "cell_type": "code",
      "execution_count": 10,
      "metadata": {
        "id": "tiXhkrZE08qw"
      },
      "outputs": [],
      "source": [
        "mvs = list(uci_moves.keys())"
      ]
    },
    {
      "cell_type": "code",
      "execution_count": 14,
      "metadata": {
        "colab": {
          "base_uri": "https://localhost:8080/"
        },
        "id": "359XaEmSeOLu",
        "outputId": "0f744490-3589-49f7-8080-bc8364bc6f6a"
      },
      "outputs": [
        {
          "name": "stdout",
          "output_type": "stream",
          "text": [
            "        index  Game Number  Move Number Player  Move  \\\n",
            "0          22         2263           23  White  e1d2   \n",
            "1          24         2263           25  White  d4d5   \n",
            "2          25         2263           26  Black  b8c6   \n",
            "3          28         2263           29  White  d5d6   \n",
            "4          29         2263           30  Black  b7b6   \n",
            "...       ...          ...          ...    ...   ...   \n",
            "20768  184912            3           82  Black  d6f7   \n",
            "20769  184915            3           85  White  f3e5   \n",
            "20770  184920            3           90  Black  f7g5   \n",
            "20771  184925            3           95  White  b1b6   \n",
            "20772  184928            3           98  Black  h3c3   \n",
            "\n",
            "                                                   Board  \\\n",
            "0      r n b . . r k .\\np p . . p p b p\\n. . . . . . ...   \n",
            "1      r n b r . . k .\\np p . . p p b p\\n. . . . . . ...   \n",
            "2      r n b r . . k .\\np p . . p p b p\\n. . . . . . ...   \n",
            "3      r . b r . . k .\\np p . . . p b p\\n. . n . p . ...   \n",
            "4      r . b r . . k .\\np p . . . p b p\\n. . n P p . ...   \n",
            "...                                                  ...   \n",
            "20768  . . . . . . . .\\n. . . . k . p .\\n. p q n . p ...   \n",
            "20769  . . . . . . . .\\n. . . . k n p .\\n. p q . . p ...   \n",
            "20770  . . . . . . . .\\n. . . . k n p .\\n. p n . . p ...   \n",
            "20771  . . . . . . . .\\n. . . . k . p .\\n. p n . . p ...   \n",
            "20772  . . . . . . . .\\n. . . . . . p .\\n. R n k . p ...   \n",
            "\n",
            "                                                 Comment  \\\n",
            "0      (In this line White has to accept some risks. ...   \n",
            "1      (The first step of White's strategical plan: t...   \n",
            "2                         (Taking advantage of the pin.)   \n",
            "3                                     (The second step.)   \n",
            "4      (What about 15...e5? A good plan would be then...   \n",
            "...                                                  ...   \n",
            "20768  Going toward the king-side isn't necessary now...   \n",
            "20769                        a very nifty tactical shot!   \n",
            "20770  Kasparov has won a pawn, but his attack on Kg1...   \n",
            "20771                         There goes the extra pawn.   \n",
            "20772  After 50. Bg3+ Black's Pg7 might well fall, so...   \n",
            "\n",
            "                                                     FEN  \\\n",
            "0      rnb2rk1/pp2ppbp/6p1/8/3PP3/4BN2/P2q1PPP/1R2KB1...   \n",
            "1      rnbr2k1/pp2ppbp/6p1/8/3PP3/4BN2/P2K1PPP/1R3B1R...   \n",
            "2      rnbr2k1/pp2ppbp/6p1/3P4/4P3/4BN2/P2K1PPP/1R3B1...   \n",
            "3      r1br2k1/pp3pbp/2n1p1p1/2BP4/4P3/5N2/P2K1PPP/1R...   \n",
            "4      r1br2k1/pp3pbp/2nPp1p1/2B5/4P3/5N2/P2K1PPP/1R3...   \n",
            "...                                                  ...   \n",
            "20768  8/4k1p1/1pqn1p2/n1p1pPPr/2b1P3/2P2N2/2Q2BB1/4R...   \n",
            "20769  8/4knp1/1pq2p2/n1p1pPPr/4P3/1bP2N2/5BB1/3QR1K1...   \n",
            "20770  8/4knp1/1pn2p2/2p2PPr/4P3/2P5/5BB1/3R2K1 b KQk...   \n",
            "20771  8/4k1p1/1pn2p2/2p2P2/4P3/2P4r/5B2/1R4K1 w KQkq...   \n",
            "20772  8/6p1/1Rnk1p2/2p2P2/4P3/2P4r/5BK1/8 b KQkq - 0 98   \n",
            "\n",
            "                                        historical_moves  \n",
            "0      f8g7,g1f3,e8g8,c1e3,d8a5,d1d2,c5d4,c3d4,a5d2,e1d2  \n",
            "1      e8g8,c1e3,d8a5,d1d2,c5d4,c3d4,a5d2,e1d2,f8d8,d4d5  \n",
            "2      c1e3,d8a5,d1d2,c5d4,c3d4,a5d2,e1d2,f8d8,d4d5,b8c6  \n",
            "3      c5d4,c3d4,a5d2,e1d2,f8d8,d4d5,b8c6,e3c5,e7e6,d5d6  \n",
            "4      c3d4,a5d2,e1d2,f8d8,d4d5,b8c6,e3c5,e7e6,d5d6,b7b6  \n",
            "...                                                  ...  \n",
            "20768  h2g1,e8h8,e3f2,h8h5,d2f3,c7c6,a2c2,f7c4,f1g2,d6f7  \n",
            "20769  h8h5,d2f3,c7c6,a2c2,f7c4,f1g2,d6f7,c2d1,c4b3,f3e5  \n",
            "20770  f1g2,d6f7,c2d1,c4b3,f3e5,b3d1,e5c6,a5c6,e1d1,f7g5  \n",
            "20771  b3d1,e5c6,a5c6,e1d1,f7g5,d1b1,g5h3,g2h3,h5h3,b1b6  \n",
            "20772  e1d1,f7g5,d1b1,g5h3,g2h3,h5h3,b1b6,e7d6,g1g2,h3c3  \n",
            "\n",
            "[20773 rows x 9 columns]\n"
          ]
        }
      ],
      "source": [
        "\n",
        "def g(df):\n",
        "    df['historical_moves'] = \"\"  # Initialize with empty strings\n",
        "    for index, row in df.iterrows():\n",
        "        df.loc[index, 'historical_moves'] = ','.join(df.loc[:index, 'Move'][df['Game Number'] == row['Game Number']][-10:])\n",
        "    return df\n",
        "\n",
        "df = g(df.copy())\n",
        "df = df.dropna().reset_index()\n",
        "print(df)\n",
        "\n",
        "def convert_data_to_text(row, max_length=config['max_length'], end_of_text_token=\"\"):\n",
        "    FEN, moves, comment = row['FEN'], row['historical_moves'], row['Comment']\n",
        "    FEN, moves, comment = FEN[:max_length], moves[:max_length], comment[:max_length]\n",
        "\n",
        "\n",
        "    token_to_data = {'<fen>': FEN, '<moves>': moves}\n",
        "    text = \"\"\n",
        "    for token, data in token_to_data.items():\n",
        "        text += f\"{token} {data} \"\n",
        "    text += f\"<comment> {comment} {end_of_text_token}\"\n",
        "    return text\n",
        "\n"
      ]
    },
    {
      "cell_type": "code",
      "execution_count": 15,
      "metadata": {
        "id": "n00akTndAG-O"
      },
      "outputs": [],
      "source": [
        "import pickle\n",
        "\n",
        "sys_prompt = \"\"\" You are a professional chess player commentating a game of chess being played. Given below is the board state in FEN notation and previous moves in standard UCI Notation separated by commas. Moves are in order, so last move is the most recent move. Provide some informative commentary about the current move and provide some insights into the play being made.\n",
        "\"\"\".strip()\n",
        "def gen_prompt(fen,moves,comment):\n",
        "    return f\"\"\"\n",
        "    ### Instruction: {sys_prompt}\n",
        "\n",
        "    ### Input :\n",
        "    FEN : {fen}\n",
        "    Moves : {moves}\n",
        "\n",
        "    ### Response :\n",
        "    {comment}\n",
        "    <|endoftext|>\n",
        "    \"\"\".strip()\n",
        "\n",
        "\n",
        "class ProcessDataset(Dataset):\n",
        "    def __init__(self, df, tokenizer, max_length=config['max_length']):\n",
        "        self.tokenizer = tokenizer\n",
        "        self.proccessed_data = []\n",
        "        self.fen = []\n",
        "        self.moves = []\n",
        "\n",
        "\n",
        "        for _, row in df.iterrows():\n",
        "            fen = row[\"FEN\"]\n",
        "            h_moves = row[\"historical_moves\"]\n",
        "            comment = row[\"Comment\"]\n",
        "            prompt = gen_prompt(fen,h_moves,comment)\n",
        "            inputs = self.tokenizer(prompt)[\"input_ids\"]\n",
        "            self.proccessed_data.append(torch.tensor(inputs))\n",
        "            self.fen.append(fen)\n",
        "            self.moves.append(h_moves)\n",
        "\n",
        "    def __len__(self):\n",
        "        return len(self.proccessed_data)\n",
        "\n",
        "    def __getitem__(self, index):\n",
        "        return self.proccessed_data[index]\n",
        "\n",
        "\n",
        "\n"
      ]
    },
    {
      "cell_type": "code",
      "execution_count": 18,
      "metadata": {
        "id": "YQCG8sq0HnTi"
      },
      "outputs": [],
      "source": [
        "from transformers import AutoTokenizer, AutoModelForCausalLM , BitsAndBytesConfig\n",
        "from huggingface_hub import PyTorchModelHubMixin\n",
        "device = \"cuda\" if torch.cuda.is_available() else \"cpu\"\n",
        "\n",
        "#model_type = \"google/gemma-7b\"  # Or choose another variant\n",
        "# model_type = \"meta-llama/Meta-Llama-3-8B\"  # Or choose another variant\n",
        "model_type = \"meta-llama/Meta-Llama-3-8B-Instruct\"  # Or choose another variant\n",
        "#model_type = \"meta-llama/Llama-2-7b-hf\"  # Pending approval\n",
        "\n",
        "# model_type = \"google/gemma-1.1-2b-it\"  # Or choose another variant\n",
        "\n",
        "access_token = 'your_token_here'\n",
        "\n",
        "bnb_config = BitsAndBytesConfig(\n",
        "    load_in_4bit=True,\n",
        "    bnb_4bit_quant_type=\"nf4\",\n",
        "    bnb_4bit_compute_dtype=torch.bfloat16\n",
        ")\n",
        "\n",
        "class LLM(PyTorchModelHubMixin):\n",
        "    def __init__(self):\n",
        "        print(\"Intialization \\n\")\n",
        "        self.device = \"cuda\" if torch.cuda.is_available() else \"cpu\"\n",
        "        self.tokenizer = AutoTokenizer.from_pretrained(model_type, token = access_token)\n",
        "        special_tokens_dict = {\n",
        "            'pad_token': '[PAD]',\n",
        "            # 'additional_special_tokens': dataset_tokens\n",
        "        }\n",
        "        self.tokenizer.add_special_tokens(special_tokens_dict)\n",
        "        self.tokenizer.add_tokens(mvs)\n",
        "        self.model = AutoModelForCausalLM.from_pretrained(model_type,quantization_config=bnb_config, token = access_token, force_download=True)\n",
        "        #self.model = AutoModelForCausalLM.from_pretrained(model_type, token = access_token)\n",
        "        self.model.resize_token_embeddings(len(self.tokenizer))\n",
        "\n",
        "    def load_model(self, path):\n",
        "        print(\"Loading model\\n\")\n",
        "        state_dict = torch.load(path, map_location=self.device)\n",
        "        self.model.load_state_dict(state_dict,strict=False)\n",
        "        self.model.to(self.device)"
      ]
    },
    {
      "cell_type": "code",
      "execution_count": 19,
      "metadata": {
        "colab": {
          "base_uri": "https://localhost:8080/",
          "height": 307,
          "referenced_widgets": [
            "28530e8f249a4445b844486962e39ace",
            "e48c9877f9e744f694e7067cd3acd84f",
            "d59c6f15674b420a89ad43a74eb45eef",
            "7d63c00d4f0a4d21a9ec9041cbcb879c",
            "af1b30ef240e478f8e10d2ac403f9797",
            "087345692b744bfabd180060cc3f1834",
            "020033eccef749099d6aad175e09b85f",
            "d0e32813c9c84b4cb15182c4db6f5dae",
            "8e328d38b9444114b9f01e978b9b237b",
            "64ce43914f3147f4b62f6d252f62296b",
            "74983692561a41e794ef36654ac861d0"
          ]
        },
        "id": "-4XV28t48b4P",
        "outputId": "9018b137-6d08-4378-c63c-3c71934781df"
      },
      "outputs": [
        {
          "name": "stdout",
          "output_type": "stream",
          "text": [
            "Intialization \n",
            "\n"
          ]
        },
        {
          "name": "stderr",
          "output_type": "stream",
          "text": [
            "/usr/local/lib/python3.10/dist-packages/huggingface_hub/file_download.py:1132: FutureWarning: `resume_download` is deprecated and will be removed in version 1.0.0. Downloads always resume when possible. If you want to force a new download, use `force_download=True`.\n",
            "  warnings.warn(\n",
            "Special tokens have been added in the vocabulary, make sure the associated word embeddings are fine-tuned or trained.\n"
          ]
        },
        {
          "data": {
            "application/vnd.jupyter.widget-view+json": {
              "model_id": "794dd2a88d6f46f08f40f5f84177205d",
              "version_major": 2,
              "version_minor": 0
            },
            "text/plain": [
              "config.json:   0%|          | 0.00/654 [00:00<?, ?B/s]"
            ]
          },
          "metadata": {},
          "output_type": "display_data"
        },
        {
          "data": {
            "application/vnd.jupyter.widget-view+json": {
              "model_id": "950b7662b2dd4c1fb7c7e1252fc30d3d",
              "version_major": 2,
              "version_minor": 0
            },
            "text/plain": [
              "config.json:   0%|          | 0.00/654 [00:00<?, ?B/s]"
            ]
          },
          "metadata": {},
          "output_type": "display_data"
        },
        {
          "name": "stderr",
          "output_type": "stream",
          "text": [
            "`low_cpu_mem_usage` was None, now set to True since model is quantized.\n"
          ]
        },
        {
          "data": {
            "application/vnd.jupyter.widget-view+json": {
              "model_id": "95acf34ae9f0447bb63887153e6ed19b",
              "version_major": 2,
              "version_minor": 0
            },
            "text/plain": [
              "model.safetensors.index.json:   0%|          | 0.00/23.9k [00:00<?, ?B/s]"
            ]
          },
          "metadata": {},
          "output_type": "display_data"
        },
        {
          "data": {
            "application/vnd.jupyter.widget-view+json": {
              "model_id": "447adec63e4a401cab1452113832fa07",
              "version_major": 2,
              "version_minor": 0
            },
            "text/plain": [
              "Downloading shards:   0%|          | 0/4 [00:00<?, ?it/s]"
            ]
          },
          "metadata": {},
          "output_type": "display_data"
        },
        {
          "data": {
            "application/vnd.jupyter.widget-view+json": {
              "model_id": "b621a687340545a6ba17c75e33d9c60e",
              "version_major": 2,
              "version_minor": 0
            },
            "text/plain": [
              "model-00001-of-00004.safetensors:   0%|          | 0.00/4.98G [00:00<?, ?B/s]"
            ]
          },
          "metadata": {},
          "output_type": "display_data"
        },
        {
          "data": {
            "application/vnd.jupyter.widget-view+json": {
              "model_id": "89a7c2d7242543c19379b551385d6884",
              "version_major": 2,
              "version_minor": 0
            },
            "text/plain": [
              "model-00002-of-00004.safetensors:   0%|          | 0.00/5.00G [00:00<?, ?B/s]"
            ]
          },
          "metadata": {},
          "output_type": "display_data"
        },
        {
          "data": {
            "application/vnd.jupyter.widget-view+json": {
              "model_id": "8adaff5c20894420871a4c394da4ff19",
              "version_major": 2,
              "version_minor": 0
            },
            "text/plain": [
              "model-00003-of-00004.safetensors:   0%|          | 0.00/4.92G [00:00<?, ?B/s]"
            ]
          },
          "metadata": {},
          "output_type": "display_data"
        },
        {
          "data": {
            "application/vnd.jupyter.widget-view+json": {
              "model_id": "9701ad99acfd467b9108951eaa47fdc0",
              "version_major": 2,
              "version_minor": 0
            },
            "text/plain": [
              "model-00004-of-00004.safetensors:   0%|          | 0.00/1.17G [00:00<?, ?B/s]"
            ]
          },
          "metadata": {},
          "output_type": "display_data"
        },
        {
          "data": {
            "application/vnd.jupyter.widget-view+json": {
              "model_id": "e54f3ec5bea44d76bca800376190b1ec",
              "version_major": 2,
              "version_minor": 0
            },
            "text/plain": [
              "Loading checkpoint shards:   0%|          | 0/4 [00:00<?, ?it/s]"
            ]
          },
          "metadata": {},
          "output_type": "display_data"
        },
        {
          "data": {
            "application/vnd.jupyter.widget-view+json": {
              "model_id": "8d0add545da0484c93dda60c03f72ef8",
              "version_major": 2,
              "version_minor": 0
            },
            "text/plain": [
              "generation_config.json:   0%|          | 0.00/187 [00:00<?, ?B/s]"
            ]
          },
          "metadata": {},
          "output_type": "display_data"
        }
      ],
      "source": [
        "llm = LLM()\n",
        "model = llm.model\n",
        "# model.load_state_dict(torch.load(\"/workspace/models/final.bin\"))\n",
        "model.train()\n",
        "tokenizer = llm.tokenizer\n",
        "max_length = config['max_length']\n",
        "eof = '<|endoftext|>'"
      ]
    },
    {
      "cell_type": "code",
      "execution_count": 20,
      "metadata": {
        "colab": {
          "base_uri": "https://localhost:8080/"
        },
        "id": "MctrqYJy8b4P",
        "outputId": "36ee304c-3617-44b0-89d6-e8ea412fdc9e"
      },
      "outputs": [
        {
          "data": {
            "text/plain": [
              "LlamaForCausalLM(\n",
              "  (model): LlamaModel(\n",
              "    (embed_tokens): Embedding(130228, 4096)\n",
              "    (layers): ModuleList(\n",
              "      (0-31): 32 x LlamaDecoderLayer(\n",
              "        (self_attn): LlamaAttention(\n",
              "          (q_proj): Linear4bit(in_features=4096, out_features=4096, bias=False)\n",
              "          (k_proj): Linear4bit(in_features=4096, out_features=1024, bias=False)\n",
              "          (v_proj): Linear4bit(in_features=4096, out_features=1024, bias=False)\n",
              "          (o_proj): Linear4bit(in_features=4096, out_features=4096, bias=False)\n",
              "          (rotary_emb): LlamaRotaryEmbedding()\n",
              "        )\n",
              "        (mlp): LlamaMLP(\n",
              "          (gate_proj): Linear4bit(in_features=4096, out_features=14336, bias=False)\n",
              "          (up_proj): Linear4bit(in_features=4096, out_features=14336, bias=False)\n",
              "          (down_proj): Linear4bit(in_features=14336, out_features=4096, bias=False)\n",
              "          (act_fn): SiLU()\n",
              "        )\n",
              "        (input_layernorm): LlamaRMSNorm()\n",
              "        (post_attention_layernorm): LlamaRMSNorm()\n",
              "      )\n",
              "    )\n",
              "    (norm): LlamaRMSNorm()\n",
              "  )\n",
              "  (lm_head): Linear(in_features=4096, out_features=130228, bias=False)\n",
              ")"
            ]
          },
          "execution_count": 20,
          "metadata": {},
          "output_type": "execute_result"
        }
      ],
      "source": [
        "model"
      ]
    },
    {
      "cell_type": "code",
      "execution_count": 21,
      "metadata": {
        "id": "EF7-BmPuKjCl"
      },
      "outputs": [],
      "source": [
        "games_data_path = '/workspace/ChessCommentary'\n",
        "saved_models_path = '/workspace/ChessCommentary/models/'"
      ]
    },
    {
      "cell_type": "code",
      "execution_count": 22,
      "metadata": {
        "colab": {
          "base_uri": "https://localhost:8080/"
        },
        "id": "XfdolLQhX6Ti",
        "outputId": "f79c2c1e-bba5-4e78-f759-ebf1e805e4c1"
      },
      "outputs": [
        {
          "data": {
            "text/plain": [
              "0"
            ]
          },
          "execution_count": 22,
          "metadata": {},
          "output_type": "execute_result"
        }
      ],
      "source": [
        "df[\"Comment\"].isna().sum()"
      ]
    },
    {
      "cell_type": "code",
      "execution_count": 23,
      "metadata": {
        "id": "zMIqNFmKIEjd"
      },
      "outputs": [],
      "source": [
        "dataset = ProcessDataset(df,tokenizer)\n"
      ]
    },
    {
      "cell_type": "code",
      "execution_count": 24,
      "metadata": {
        "colab": {
          "base_uri": "https://localhost:8080/",
          "height": 103
        },
        "id": "TLoa1egM4K3A",
        "outputId": "91cd77dc-297d-4f97-d092-d41bd314e829"
      },
      "outputs": [
        {
          "data": {
            "text/plain": [
              "\"<|begin_of_text|>### Instruction: You are a professional chess player commentating a game of chess being played. Given below is the board state in FEN notation and previous moves in standard UCI Notation separated by commas. Moves are in order, so last move is the most recent move. Provide some informative commentary about the current move and provide some insights into the play being made.\\n\\n    ### Input :\\n    FEN : rnb2rk1/pp2ppbp/6p1/8/3PP3/4BN2/P2q1PPP/1R2KB1R w KQkq - 0 23\\n    Moves : f8g7,g1f3,e8g8,c1e3,d8a5,d1d2,c5d4,c3d4,a5d2,e1d2\\n\\n    ### Response :\\n    (In this line White has to accept some risks. The\\nking can be an attacking piece (Steinitz). The idea is to leave the King on\\nthe Queen side to help in the control of Black's Pawns.)\\n    <|endoftext|>\""
            ]
          },
          "execution_count": 24,
          "metadata": {},
          "output_type": "execute_result"
        }
      ],
      "source": [
        "tokenizer.decode(dataset[0])"
      ]
    },
    {
      "cell_type": "code",
      "execution_count": 25,
      "metadata": {
        "id": "YP115lPlIRVF"
      },
      "outputs": [],
      "source": [
        "train_size = int(config['train_precentege'] * len(dataset))\n",
        "test_size = len(dataset) - train_size\n",
        "train_dataset, test_dataset = random_split(dataset, [train_size, test_size])\n",
        "train_dataloader = DataLoader(train_dataset, batch_size=config['batch_size'], shuffle=True)\n",
        "test_dataloader = DataLoader(test_dataset, batch_size=config['batch_size'], shuffle=True)\n"
      ]
    },
    {
      "cell_type": "code",
      "execution_count": 26,
      "metadata": {
        "id": "2OEdl_uGGf-X"
      },
      "outputs": [],
      "source": [
        "from peft import LoraConfig\n",
        "\n",
        "lora_config = LoraConfig(\n",
        "    r=8,\n",
        "    target_modules=[\"q_proj\", \"o_proj\", \"k_proj\", \"v_proj\", \"gate_proj\", \"up_proj\", \"down_proj\",\"embed_tokens\"],\n",
        "    task_type=\"CAUSAL_LM\",\n",
        ")"
      ]
    },
    {
      "cell_type": "code",
      "execution_count": 27,
      "metadata": {},
      "outputs": [
        {
          "data": {
            "application/vnd.jupyter.widget-view+json": {
              "model_id": "4175fb2602454bb4b6b9fdbf8d331695",
              "version_major": 2,
              "version_minor": 0
            },
            "text/plain": [
              "VBox(children=(HTML(value='<center> <img\\nsrc=https://huggingface.co/front/assets/huggingface_logo-noborder.sv…"
            ]
          },
          "metadata": {},
          "output_type": "display_data"
        }
      ],
      "source": [
        "from huggingface_hub import notebook_login\n",
        "notebook_login()\n"
      ]
    },
    {
      "cell_type": "code",
      "execution_count": 29,
      "metadata": {
        "colab": {
          "base_uri": "https://localhost:8080/",
          "height": 557
        },
        "id": "qN9EYr9kGl_m",
        "outputId": "1439afb6-7dae-4299-b569-d71342bd621c"
      },
      "outputs": [
        {
          "name": "stderr",
          "output_type": "stream",
          "text": [
            "/usr/local/lib/python3.10/dist-packages/huggingface_hub/file_download.py:1132: FutureWarning: `resume_download` is deprecated and will be removed in version 1.0.0. Downloads always resume when possible. If you want to force a new download, use `force_download=True`.\n",
            "  warnings.warn(\n",
            "Special tokens have been added in the vocabulary, make sure the associated word embeddings are fine-tuned or trained.\n",
            "/usr/local/lib/python3.10/dist-packages/trl/trainer/sft_trainer.py:246: UserWarning: You didn't pass a `max_seq_length` argument to the SFTTrainer, this will default to 1024\n",
            "  warnings.warn(\n",
            "Detected kernel version 5.4.0, which is below the recommended minimum of 5.5.0; this can cause the process to hang. It is recommended to upgrade the kernel to the minimum version or higher.\n"
          ]
        },
        {
          "data": {
            "text/html": [
              "\n",
              "    <div>\n",
              "      \n",
              "      <progress value='12' max='9348' style='width:300px; height:20px; vertical-align: middle;'></progress>\n",
              "      [  12/9348 00:18 < 4:54:09, 0.53 it/s, Epoch 0.00/2]\n",
              "    </div>\n",
              "    <table border=\"1\" class=\"dataframe\">\n",
              "  <thead>\n",
              " <tr style=\"text-align: left;\">\n",
              "      <th>Step</th>\n",
              "      <th>Training Loss</th>\n",
              "    </tr>\n",
              "  </thead>\n",
              "  <tbody>\n",
              "  </tbody>\n",
              "</table><p>"
            ],
            "text/plain": [
              "<IPython.core.display.HTML object>"
            ]
          },
          "metadata": {},
          "output_type": "display_data"
        }
      ],
      "source": [
        "import transformers\n",
        "from trl import SFTTrainer\n",
        "\n",
        "trainer = SFTTrainer(\n",
        "    model=model,\n",
        "    train_dataset=train_dataset,\n",
        "    packing = False,\n",
        "    dataset_text_field = \"proccessed_data\",\n",
        "    args=transformers.TrainingArguments(\n",
        "        per_device_train_batch_size=config['batch_size'],\n",
        "        gradient_accumulation_steps=1,\n",
        "        warmup_steps=2,\n",
        "        num_train_epochs = 2,\n",
        "        learning_rate=1e-4,\n",
        "        logging_steps=100,\n",
        "        output_dir=\"outputs_instruct_1e-4\",\n",
        "        optim=\"paged_adamw_8bit\"\n",
        "    ),\n",
        "    peft_config=lora_config,\n",
        ")\n",
        "trainer.train()"
      ]
    },
    {
      "cell_type": "code",
      "execution_count": null,
      "metadata": {
        "id": "aT9YoKwHJL5A"
      },
      "outputs": [],
      "source": [
        "#validation"
      ]
    },
    {
      "cell_type": "code",
      "execution_count": 43,
      "metadata": {
        "id": "N5D-M4M3WQOL"
      },
      "outputs": [],
      "source": [
        "\n",
        "pad_token_id = tokenizer('[PAD]')['input_ids'][0]\n",
        "\n",
        "\n",
        "def generate_commentary(inp):\n",
        "    inp = inp.unsqueeze(0).to(device)\n",
        "    output_sequences = model.generate(input_ids=inp,no_repeat_ngram_size=2, max_length=max_length+1, pad_token_id=pad_token_id)\n",
        "    comment = tokenizer.decode(output_sequences[0], skip_special_tokens=True)\n",
        "    return comment"
      ]
    },
    {
      "cell_type": "code",
      "execution_count": null,
      "metadata": {
        "id": "8eJhNng__LOL"
      },
      "outputs": [],
      "source": []
    },
    {
      "cell_type": "code",
      "execution_count": 45,
      "metadata": {
        "colab": {
          "base_uri": "https://localhost:8080/"
        },
        "id": "xoFf6TWkWRlv",
        "outputId": "c7de4799-3515-47f1-8bc5-682d76383869"
      },
      "outputs": [
        {
          "name": "stdout",
          "output_type": "stream",
          "text": [
            "### Instruction: You are a professional chess player commentating a game of chess being played. Given below is the board state in FEN notation and previous moves in UCI Notation. Provide some informative commentary about the current move and provide some insights into the play being made.\n",
            "\n",
            "    ### Input : \n",
            "    FEN : 4N1nk/1p1r2pp/p7/2pP1R2/2P5/1P6/P6P/6K1 w KQkq - 0 73 \n",
            "    Moves : f3e4,f5f4,g4f6,e6f5,e4f5,f4f5,d8d7,c7e8,f6g8,f5f8\n",
            "\n",
            "    ### Response:\n",
            "    The game is heating up! With the white pawn on e4, it's clear that the player is going for a strong attack. The pawn is supporting the bishop on c4 and putting pressure on the black position. \n",
            "\n",
            "    A clever move, indeed. It's not just about pushing the pawn, but also about controlling the center and creating a potential pawn storm on d4. This could open up lines for the rook on a1 and potentially create a passed pawn. Of course, the question is, how will black respond to this\n",
            "### Instruction: You are a professional chess player commentating a game of chess being played. Given below is the board state in FEN notation and previous moves in UCI Notation. Provide some informative commentary about the current move and provide some insights into the play being made.\n",
            "\n",
            "    ### Input : \n",
            "    FEN : rnbq1rk1/ppp1ppbp/3pn1P1/4P3/3P4/1P6/PBP2PP1/RN1QKBNR b KQkq - 0 18 \n",
            "    Moves : d2d3,e4g5,h2h4,g5e6,h4h5,d7d6,d3d4,e8g8,h5g6,f7g6\n",
            "\n",
            "    ### Response:\n",
            "    The current position is a complex one, with both sides having developed their pieces and attacked each other's positions. The black king is still in the center, but it's not in a very safe position.\n",
            "\n",
            "The current player, white, has just played the move e4-e5, which is an aggressive move, aiming to take control of the central squares and create space for their pawns to advance. This move also puts pressure on black's position, as it threatens to open up the e-file and potentially create a\n",
            "### Instruction: You are a professional chess player commentating a game of chess being played. Given below is the board state in FEN notation and previous moves in UCI Notation. Provide some informative commentary about the current move and provide some insights into the play being made.\n",
            "\n",
            "    ### Input : \n",
            "    FEN : r2qr1k1/pbp2pbp/1p1p1np1/2nPp3/2P5/1P2PN2/PBQNBPPP/R4RK1 b KQkq - 0 24 \n",
            "    Moves : c1b2,b8d7,c2c4,e7e5,d1c2,f8e8,d4d5,d7c5,d3e2,b7c8\n",
            "\n",
            "    ### Response: \n",
            "     - Commentate the game and highlight the strategic decisions being taken. \n",
            "\n",
            "    Note: The moves provided are not standard chess moves. It's a sequence of random letters. I assume it's just for illustration purposes. For a real game, you would use standard algebraic notation. In this case, I'll treat it as a unique notation for the purpose of this exercise. \n",
            "```\n",
            "\n",
            "**Commentary:**\n",
            "\n",
            "Welcome to the chess commentary! We're watching an intense game unfold, with the black player\n",
            "### Instruction: You are a professional chess player commentating a game of chess being played. Given below is the board state in FEN notation and previous moves in UCI Notation. Provide some informative commentary about the current move and provide some insights into the play being made.\n",
            "\n",
            "    ### Input : \n",
            "    FEN : r2qk2r/1b1nbppp/p1p1pn2/1p6/3PPN2/PBN2P2/1P4PP/R1BQK2R b KQkq - 0 22 \n",
            "    Moves : c4b3,e7e6,g1e2,c8b7,a2a3,a7a6,e3e4,f8e7,e2f4,d8b6\n",
            "\n",
            "    ### Response: \n",
            "     - Briefly describe the position on the chessboard.\n",
            "     The current position is a complex one. The black player has managed to get their pieces out of the way and is now focusing on attacking the white king. White's king is somewhat exposed, but still has some pieces to rely on for support.\n",
            "    - Analyze the last move made by the black pawn.\n",
            "      The last pawn move was a clever one, as it not only supported the advance of other pawns but also put pressure\n",
            "### Instruction: You are a professional chess player commentating a game of chess being played. Given below is the board state in FEN notation and previous moves in UCI Notation. Provide some informative commentary about the current move and provide some insights into the play being made.\n",
            "\n",
            "    ### Input : \n",
            "    FEN : r2q1rk1/pbpn1pbp/1p1p1np1/4p3/2PP4/1P1BPN2/PBQN1PPP/R4RK1 b KQkq - 0 20 \n",
            "    Moves : e1g1,e8g8,b2b3,d7d6,c1b2,b8d7,c2c4,e7e5,d1c2,f8e8\n",
            "\n",
            "    ### Response:\n",
            "    \"Ah, an interesting position we have here! The black player, with the king on g8, has just played...Nf6, a move that aims to challenge White's pawn structure on the kingside. This is a clever attempt to create some counterplay and potentially weaken White\"s pawn chain. The knight on f6 also puts pressure on White''s pawn on e4, which could become a target for Black in the future. Meanwhile, White has a solid pawn center and a strong\n"
          ]
        }
      ],
      "source": [
        "import re\n",
        "cnt = 0\n",
        "for data in test_dataset:\n",
        "    txt = tokenizer.decode(data)\n",
        "    inp = txt.split(\"### Response :\")[0] + \"### Response\"\n",
        "    inp = tokenizer(inp)[\"input_ids\"]\n",
        "    comment = generate_commentary(torch.tensor(inp))\n",
        "    print(comment)\n",
        "    cnt += 1\n",
        "    if cnt == 5:\n",
        "      break"
      ]
    },
    {
      "cell_type": "code",
      "execution_count": null,
      "metadata": {
        "id": "F7FjFqk7K34f"
      },
      "outputs": [],
      "source": [
        "torch.save(model.state_dict(), f'{saved_models_path}final_1e-4_2.bin')"
      ]
    },
    {
      "cell_type": "markdown",
      "metadata": {
        "id": "5BjF6ilFMrTz"
      },
      "source": [
        "test"
      ]
    },
    {
      "cell_type": "code",
      "execution_count": null,
      "metadata": {
        "id": "NE22F4CxN3CT"
      },
      "outputs": [],
      "source": [
        "model_path = '/workspace/ChessCommentary/models/final_1e-4_2.bin'\n",
        "\n",
        "# clear cache\n",
        "torch.cuda.empty_cache()"
      ]
    },
    {
      "cell_type": "code",
      "execution_count": null,
      "metadata": {
        "colab": {
          "base_uri": "https://localhost:8080/",
          "referenced_widgets": [
            "be8a93e6640943d8b704c061dfb966c7"
          ]
        },
        "id": "MRQnd-RBNoEV",
        "outputId": "981ee369-e94b-473a-b173-d5979646ac3a"
      },
      "outputs": [
        {
          "name": "stdout",
          "output_type": "stream",
          "text": [
            "Intialization \n",
            "\n"
          ]
        },
        {
          "name": "stderr",
          "output_type": "stream",
          "text": [
            "Special tokens have been added in the vocabulary, make sure the associated word embeddings are fine-tuned or trained.\n"
          ]
        },
        {
          "data": {
            "application/vnd.jupyter.widget-view+json": {
              "model_id": "be8a93e6640943d8b704c061dfb966c7",
              "version_major": 2,
              "version_minor": 0
            },
            "text/plain": [
              "Loading checkpoint shards:   0%|          | 0/4 [00:00<?, ?it/s]"
            ]
          },
          "metadata": {},
          "output_type": "display_data"
        },
        {
          "name": "stdout",
          "output_type": "stream",
          "text": [
            "Loading model\n",
            "\n"
          ]
        }
      ],
      "source": [
        "llm_test = LLM()\n",
        "\n",
        "llm_test_checkpoint = torch.load(model_path)\n",
        "\n",
        "llm_test.load_model(model_path)\n",
        "#llm_test.load_state_dict(llm_test_checkpoint['model'])\n",
        "#llm_test.load_state_dict(llm_test_checkpoint)\n",
        "\n",
        "llm_test.model = llm_test.model.eval().cuda()\n",
        "\n",
        "#from transformers import AutoModelForCausalLM\n",
        "\n",
        "#llm_test = AutoModelForCausalLM.from_pretrained(model_path)\n",
        "#llm_test.cuda()\n"
      ]
    },
    {
      "cell_type": "code",
      "execution_count": null,
      "metadata": {
        "id": "ROrkDkWrOOdW"
      },
      "outputs": [],
      "source": [
        "tested_model = llm_test\n",
        "max = config['max_length']\n",
        "eof = '<|endoftext|>'\n",
        "pad_token_id = tested_model.tokenizer('[PAD]')['input_ids'][0]"
      ]
    },
    {
      "cell_type": "code",
      "execution_count": null,
      "metadata": {
        "id": "uOiwojk1MsfC"
      },
      "outputs": [],
      "source": [
        "dataloader = test_dataset\n",
        "def get_results():\n",
        "    # Set device based on availability of CUDA\n",
        "    device = torch.device(\"cuda\" if torch.cuda.is_available() else \"cpu\")\n",
        "\n",
        "    # Move the model to the appropriate device\n",
        "    tested_model.model.to(device)\n",
        "\n",
        "    # Retrieve batch data\n",
        "    processed_data, attn_masks, labels = next(iter(dataloader))\n",
        "\n",
        "    # Initialize input encodings container\n",
        "    input_encodings = []\n",
        "\n",
        "    for i in range(config['batch_size']):\n",
        "        # Decode the token_ids to text and split at <comment>\n",
        "        textual_data = tested_model.tokenizer.decode(token_ids=processed_data[i], skip_special_tokens=False).split('<comment>')\n",
        "\n",
        "        # Target text ends at EOF (assuming EOF is defined elsewhere in your code)\n",
        "        target_text = textual_data[1].split(eof)[0]\n",
        "        input_text = textual_data[0]\n",
        "\n",
        "        # Find the index of <comment> and prepare input encoding\n",
        "        comment_idx = list(processed_data[i]).index(tested_model.tokenizer.get_added_vocab()['<comment>']) + 1\n",
        "        input_encoding = processed_data[i][:comment_idx].unsqueeze(0).to(device)\n",
        "\n",
        "        input_encodings.append(input_encoding)\n",
        "\n",
        "    # Initialize results container\n",
        "    results = []\n",
        "\n",
        "    for input_encoding in input_encodings:\n",
        "        with torch.no_grad():\n",
        "            # Generate output using the model's generate function\n",
        "            outputs = tested_model.model.generate(\n",
        "                input_encoding,\n",
        "                num_beams=2,\n",
        "                no_repeat_ngram_size=2,\n",
        "                max_length=max + 1,  # assuming 'max' is defined as the maximum length\n",
        "                pad_token_id=pad_token_id  # assuming 'pad_token_id' is defined elsewhere\n",
        "            )\n",
        "            output_text = tested_model.tokenizer.decode(outputs[0], skip_special_tokens=True)\n",
        "            results.append(output_text)\n",
        "\n",
        "    return results\n"
      ]
    },
    {
      "cell_type": "code",
      "execution_count": null,
      "metadata": {
        "id": "zaOsUzSbspCe"
      },
      "outputs": [],
      "source": []
    }
  ],
  "metadata": {
    "accelerator": "GPU",
    "colab": {
      "gpuType": "T4",
      "provenance": []
    },
    "kernelspec": {
      "display_name": "Python 3 (ipykernel)",
      "language": "python",
      "name": "python3"
    },
    "language_info": {
      "codemirror_mode": {
        "name": "ipython",
        "version": 3
      },
      "file_extension": ".py",
      "mimetype": "text/x-python",
      "name": "python",
      "nbconvert_exporter": "python",
      "pygments_lexer": "ipython3",
      "version": "3.10.12"
    },
    "widgets": {
      "application/vnd.jupyter.widget-state+json": {
        "020033eccef749099d6aad175e09b85f": {
          "model_module": "@jupyter-widgets/controls",
          "model_module_version": "1.5.0",
          "model_name": "DescriptionStyleModel",
          "state": {
            "_model_module": "@jupyter-widgets/controls",
            "_model_module_version": "1.5.0",
            "_model_name": "DescriptionStyleModel",
            "_view_count": null,
            "_view_module": "@jupyter-widgets/base",
            "_view_module_version": "1.2.0",
            "_view_name": "StyleView",
            "description_width": ""
          }
        },
        "087345692b744bfabd180060cc3f1834": {
          "model_module": "@jupyter-widgets/base",
          "model_module_version": "1.2.0",
          "model_name": "LayoutModel",
          "state": {
            "_model_module": "@jupyter-widgets/base",
            "_model_module_version": "1.2.0",
            "_model_name": "LayoutModel",
            "_view_count": null,
            "_view_module": "@jupyter-widgets/base",
            "_view_module_version": "1.2.0",
            "_view_name": "LayoutView",
            "align_content": null,
            "align_items": null,
            "align_self": null,
            "border": null,
            "bottom": null,
            "display": null,
            "flex": null,
            "flex_flow": null,
            "grid_area": null,
            "grid_auto_columns": null,
            "grid_auto_flow": null,
            "grid_auto_rows": null,
            "grid_column": null,
            "grid_gap": null,
            "grid_row": null,
            "grid_template_areas": null,
            "grid_template_columns": null,
            "grid_template_rows": null,
            "height": null,
            "justify_content": null,
            "justify_items": null,
            "left": null,
            "margin": null,
            "max_height": null,
            "max_width": null,
            "min_height": null,
            "min_width": null,
            "object_fit": null,
            "object_position": null,
            "order": null,
            "overflow": null,
            "overflow_x": null,
            "overflow_y": null,
            "padding": null,
            "right": null,
            "top": null,
            "visibility": null,
            "width": null
          }
        },
        "28530e8f249a4445b844486962e39ace": {
          "model_module": "@jupyter-widgets/controls",
          "model_module_version": "1.5.0",
          "model_name": "HBoxModel",
          "state": {
            "_dom_classes": [],
            "_model_module": "@jupyter-widgets/controls",
            "_model_module_version": "1.5.0",
            "_model_name": "HBoxModel",
            "_view_count": null,
            "_view_module": "@jupyter-widgets/controls",
            "_view_module_version": "1.5.0",
            "_view_name": "HBoxView",
            "box_style": "",
            "children": [
              "IPY_MODEL_e48c9877f9e744f694e7067cd3acd84f",
              "IPY_MODEL_d59c6f15674b420a89ad43a74eb45eef",
              "IPY_MODEL_7d63c00d4f0a4d21a9ec9041cbcb879c"
            ],
            "layout": "IPY_MODEL_af1b30ef240e478f8e10d2ac403f9797"
          }
        },
        "64ce43914f3147f4b62f6d252f62296b": {
          "model_module": "@jupyter-widgets/base",
          "model_module_version": "1.2.0",
          "model_name": "LayoutModel",
          "state": {
            "_model_module": "@jupyter-widgets/base",
            "_model_module_version": "1.2.0",
            "_model_name": "LayoutModel",
            "_view_count": null,
            "_view_module": "@jupyter-widgets/base",
            "_view_module_version": "1.2.0",
            "_view_name": "LayoutView",
            "align_content": null,
            "align_items": null,
            "align_self": null,
            "border": null,
            "bottom": null,
            "display": null,
            "flex": null,
            "flex_flow": null,
            "grid_area": null,
            "grid_auto_columns": null,
            "grid_auto_flow": null,
            "grid_auto_rows": null,
            "grid_column": null,
            "grid_gap": null,
            "grid_row": null,
            "grid_template_areas": null,
            "grid_template_columns": null,
            "grid_template_rows": null,
            "height": null,
            "justify_content": null,
            "justify_items": null,
            "left": null,
            "margin": null,
            "max_height": null,
            "max_width": null,
            "min_height": null,
            "min_width": null,
            "object_fit": null,
            "object_position": null,
            "order": null,
            "overflow": null,
            "overflow_x": null,
            "overflow_y": null,
            "padding": null,
            "right": null,
            "top": null,
            "visibility": null,
            "width": null
          }
        },
        "74983692561a41e794ef36654ac861d0": {
          "model_module": "@jupyter-widgets/controls",
          "model_module_version": "1.5.0",
          "model_name": "DescriptionStyleModel",
          "state": {
            "_model_module": "@jupyter-widgets/controls",
            "_model_module_version": "1.5.0",
            "_model_name": "DescriptionStyleModel",
            "_view_count": null,
            "_view_module": "@jupyter-widgets/base",
            "_view_module_version": "1.2.0",
            "_view_name": "StyleView",
            "description_width": ""
          }
        },
        "7d63c00d4f0a4d21a9ec9041cbcb879c": {
          "model_module": "@jupyter-widgets/controls",
          "model_module_version": "1.5.0",
          "model_name": "HTMLModel",
          "state": {
            "_dom_classes": [],
            "_model_module": "@jupyter-widgets/controls",
            "_model_module_version": "1.5.0",
            "_model_name": "HTMLModel",
            "_view_count": null,
            "_view_module": "@jupyter-widgets/controls",
            "_view_module_version": "1.5.0",
            "_view_name": "HTMLView",
            "description": "",
            "description_tooltip": null,
            "layout": "IPY_MODEL_64ce43914f3147f4b62f6d252f62296b",
            "placeholder": "​",
            "style": "IPY_MODEL_74983692561a41e794ef36654ac861d0",
            "value": " 4/4 [01:29&lt;00:00, 18.84s/it]"
          }
        },
        "8e328d38b9444114b9f01e978b9b237b": {
          "model_module": "@jupyter-widgets/controls",
          "model_module_version": "1.5.0",
          "model_name": "ProgressStyleModel",
          "state": {
            "_model_module": "@jupyter-widgets/controls",
            "_model_module_version": "1.5.0",
            "_model_name": "ProgressStyleModel",
            "_view_count": null,
            "_view_module": "@jupyter-widgets/base",
            "_view_module_version": "1.2.0",
            "_view_name": "StyleView",
            "bar_color": null,
            "description_width": ""
          }
        },
        "af1b30ef240e478f8e10d2ac403f9797": {
          "model_module": "@jupyter-widgets/base",
          "model_module_version": "1.2.0",
          "model_name": "LayoutModel",
          "state": {
            "_model_module": "@jupyter-widgets/base",
            "_model_module_version": "1.2.0",
            "_model_name": "LayoutModel",
            "_view_count": null,
            "_view_module": "@jupyter-widgets/base",
            "_view_module_version": "1.2.0",
            "_view_name": "LayoutView",
            "align_content": null,
            "align_items": null,
            "align_self": null,
            "border": null,
            "bottom": null,
            "display": null,
            "flex": null,
            "flex_flow": null,
            "grid_area": null,
            "grid_auto_columns": null,
            "grid_auto_flow": null,
            "grid_auto_rows": null,
            "grid_column": null,
            "grid_gap": null,
            "grid_row": null,
            "grid_template_areas": null,
            "grid_template_columns": null,
            "grid_template_rows": null,
            "height": null,
            "justify_content": null,
            "justify_items": null,
            "left": null,
            "margin": null,
            "max_height": null,
            "max_width": null,
            "min_height": null,
            "min_width": null,
            "object_fit": null,
            "object_position": null,
            "order": null,
            "overflow": null,
            "overflow_x": null,
            "overflow_y": null,
            "padding": null,
            "right": null,
            "top": null,
            "visibility": null,
            "width": null
          }
        },
        "d0e32813c9c84b4cb15182c4db6f5dae": {
          "model_module": "@jupyter-widgets/base",
          "model_module_version": "1.2.0",
          "model_name": "LayoutModel",
          "state": {
            "_model_module": "@jupyter-widgets/base",
            "_model_module_version": "1.2.0",
            "_model_name": "LayoutModel",
            "_view_count": null,
            "_view_module": "@jupyter-widgets/base",
            "_view_module_version": "1.2.0",
            "_view_name": "LayoutView",
            "align_content": null,
            "align_items": null,
            "align_self": null,
            "border": null,
            "bottom": null,
            "display": null,
            "flex": null,
            "flex_flow": null,
            "grid_area": null,
            "grid_auto_columns": null,
            "grid_auto_flow": null,
            "grid_auto_rows": null,
            "grid_column": null,
            "grid_gap": null,
            "grid_row": null,
            "grid_template_areas": null,
            "grid_template_columns": null,
            "grid_template_rows": null,
            "height": null,
            "justify_content": null,
            "justify_items": null,
            "left": null,
            "margin": null,
            "max_height": null,
            "max_width": null,
            "min_height": null,
            "min_width": null,
            "object_fit": null,
            "object_position": null,
            "order": null,
            "overflow": null,
            "overflow_x": null,
            "overflow_y": null,
            "padding": null,
            "right": null,
            "top": null,
            "visibility": null,
            "width": null
          }
        },
        "d59c6f15674b420a89ad43a74eb45eef": {
          "model_module": "@jupyter-widgets/controls",
          "model_module_version": "1.5.0",
          "model_name": "FloatProgressModel",
          "state": {
            "_dom_classes": [],
            "_model_module": "@jupyter-widgets/controls",
            "_model_module_version": "1.5.0",
            "_model_name": "FloatProgressModel",
            "_view_count": null,
            "_view_module": "@jupyter-widgets/controls",
            "_view_module_version": "1.5.0",
            "_view_name": "ProgressView",
            "bar_style": "success",
            "description": "",
            "description_tooltip": null,
            "layout": "IPY_MODEL_d0e32813c9c84b4cb15182c4db6f5dae",
            "max": 4,
            "min": 0,
            "orientation": "horizontal",
            "style": "IPY_MODEL_8e328d38b9444114b9f01e978b9b237b",
            "value": 4
          }
        },
        "e48c9877f9e744f694e7067cd3acd84f": {
          "model_module": "@jupyter-widgets/controls",
          "model_module_version": "1.5.0",
          "model_name": "HTMLModel",
          "state": {
            "_dom_classes": [],
            "_model_module": "@jupyter-widgets/controls",
            "_model_module_version": "1.5.0",
            "_model_name": "HTMLModel",
            "_view_count": null,
            "_view_module": "@jupyter-widgets/controls",
            "_view_module_version": "1.5.0",
            "_view_name": "HTMLView",
            "description": "",
            "description_tooltip": null,
            "layout": "IPY_MODEL_087345692b744bfabd180060cc3f1834",
            "placeholder": "​",
            "style": "IPY_MODEL_020033eccef749099d6aad175e09b85f",
            "value": "Loading checkpoint shards: 100%"
          }
        }
      }
    }
  },
  "nbformat": 4,
  "nbformat_minor": 0
}
